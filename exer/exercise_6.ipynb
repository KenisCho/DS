{
  "nbformat": 4,
  "nbformat_minor": 0,
  "metadata": {
    "colab": {
      "name": "exercise_6",
      "provenance": [],
      "collapsed_sections": []
    },
    "kernelspec": {
      "name": "python3",
      "display_name": "Python 3"
    },
    "language_info": {
      "name": "python"
    }
  },
  "cells": [
    {
      "cell_type": "code",
      "execution_count": 1,
      "metadata": {
        "id": "OS4R10OGA0Jz"
      },
      "outputs": [],
      "source": [
        "import numpy as np\n",
        "import pandas as pd\n",
        "from matplotlib import pyplot as plt"
      ]
    },
    {
      "cell_type": "code",
      "source": [
        "lst=[1,2,3,4]\n",
        "\n",
        "arr=np.array(lst)\n",
        "print(arr)"
      ],
      "metadata": {
        "colab": {
          "base_uri": "https://localhost:8080/"
        },
        "id": "afd-U0bvA0s1",
        "outputId": "0376fe62-720f-42fe-cbf2-8ff562c540c0"
      },
      "execution_count": 2,
      "outputs": [
        {
          "output_type": "stream",
          "name": "stdout",
          "text": [
            "[1 2 3 4]\n"
          ]
        }
      ]
    },
    {
      "cell_type": "code",
      "source": [
        "# .dtype attribute\n",
        "\n",
        "print(arr.dtype)"
      ],
      "metadata": {
        "colab": {
          "base_uri": "https://localhost:8080/"
        },
        "id": "Or28PGSIA1cH",
        "outputId": "c2e187c8-eac0-46be-f057-696c0c45f49e"
      },
      "execution_count": 3,
      "outputs": [
        {
          "output_type": "stream",
          "name": "stdout",
          "text": [
            "int64\n"
          ]
        }
      ]
    },
    {
      "cell_type": "code",
      "source": [
        "\"\"\"\n",
        "Size Comparison of ndrray and list objects\n",
        "\"\"\"\n",
        "from sys import getsizeof\n",
        "\n",
        "lst = [1,2,3,4,5]\n",
        "print(getsizeof(lst))\n",
        "\n",
        "arr = np.array(lst)\n",
        "print(getsizeof(arr))"
      ],
      "metadata": {
        "colab": {
          "base_uri": "https://localhost:8080/"
        },
        "id": "mzMxyeSiA2hZ",
        "outputId": "ec850888-d38c-4ec5-b239-1f55a7529b53"
      },
      "execution_count": 4,
      "outputs": [
        {
          "output_type": "stream",
          "name": "stdout",
          "text": [
            "112\n",
            "136\n"
          ]
        }
      ]
    },
    {
      "cell_type": "code",
      "source": [
        "\"\"\"\n",
        "Operations with Numpy Arrays\n",
        "\"\"\"\n",
        "prices = [35,20,23,19,65,30,16,324]\n",
        "\n",
        "new_prices = [price-5 for price in prices]\n",
        "print(new_prices)\n",
        "\n",
        "# With a ndarray\n",
        "\n",
        "prices_arr= np.array(prices)\n",
        "prices_arr = prices_arr - 5\n",
        "print(prices_arr)"
      ],
      "metadata": {
        "colab": {
          "base_uri": "https://localhost:8080/"
        },
        "id": "HR8FjyB8A3Vj",
        "outputId": "6215fab3-bbb7-4b41-e6a6-53e796a4ca93"
      },
      "execution_count": 10,
      "outputs": [
        {
          "output_type": "stream",
          "name": "stdout",
          "text": [
            "[30, 15, 18, 14, 60, 25, 11, 319]\n",
            "[ 30  15  18  14  60  25  11 319]\n"
          ]
        }
      ]
    },
    {
      "cell_type": "code",
      "source": [
        "\"\"\"\n",
        "Exercise: Test Scores\n",
        "\"\"\"\n",
        "\n",
        "t_1 = np.array([93, 95, 81, 90, 87])\n",
        "t_2 = np.array([79, 90, 88, 93, 91])\n",
        "t_3 = np.array([87, 72, 65, 90, 82])\n",
        "\n",
        "t_3_fix = t_3 - 1\n",
        "print(test_3_fixed)\n",
        "\n",
        "total1 = t_1 + t_2 + t_3\n",
        "print(total1)\n",
        "\n",
        "total2 = total1 / 3\n",
        "print(total2)\n",
        "\n",
        "total3 = t_2[3]\n",
        "print(total3)\n",
        "\n",
        "test_1 = np.array([t_1[1], t_1[2]])\n",
        "print(test_1)"
      ],
      "metadata": {
        "colab": {
          "base_uri": "https://localhost:8080/"
        },
        "id": "AdXXsAphA4SK",
        "outputId": "498dc0b6-3878-42e1-aa64-120b9d3c5941"
      },
      "execution_count": 12,
      "outputs": [
        {
          "output_type": "stream",
          "name": "stdout",
          "text": [
            "[89 87 74 92 94]\n",
            "[259 257 234 273 260]\n",
            "[86.33333333 85.66666667 78.         91.         86.66666667]\n",
            "93\n",
            "[95 81]\n"
          ]
        }
      ]
    },
    {
      "cell_type": "code",
      "source": [
        "student_scores = np.array([t_1, t_2, t_3])\n",
        "print(student_scores)\n",
        "\n",
        "print(student_scores[1, 0])\n",
        "\n",
        "print(student_scores[: ,3])"
      ],
      "metadata": {
        "colab": {
          "base_uri": "https://localhost:8080/"
        },
        "id": "sTvRcyDiA5go",
        "outputId": "09480aff-bba6-4cee-e823-0145db6db6a2"
      },
      "execution_count": 14,
      "outputs": [
        {
          "output_type": "stream",
          "name": "stdout",
          "text": [
            "[[93 95 81 90 87]\n",
            " [79 90 88 93 91]\n",
            " [87 72 65 90 82]]\n",
            "79\n",
            "[90 93 90]\n"
          ]
        }
      ]
    },
    {
      "cell_type": "code",
      "source": [
        "\"\"\"\n",
        "Logical Operations with Arrays\n",
        "\"\"\"\n",
        "# masking\n",
        "a = np.array([1,3,4,5,5,6,67,7,8,9])\n",
        "mask = a > 5\n",
        "print(mask)\n",
        "\n",
        "# select using logical operations\n",
        "selected = a[a>5]\n",
        "print(selected)\n",
        "\n",
        "# combined Logical operations | &\n",
        "selected = a[(a>6) | (a<4)]\n",
        "print(selected)\n",
        "\n",
        "selected = a[(a > 4) & (a<7)]\n",
        "print(selected)"
      ],
      "metadata": {
        "colab": {
          "base_uri": "https://localhost:8080/"
        },
        "id": "7K3L0ajYA6eX",
        "outputId": "e5aef32f-533b-4ba8-d7be-4c043890e95d"
      },
      "execution_count": 8,
      "outputs": [
        {
          "output_type": "stream",
          "name": "stdout",
          "text": [
            "[False False False False False  True  True  True  True  True]\n",
            "[ 6 67  7  8  9]\n",
            "[ 1  3 67  7  8  9]\n",
            "[5 5 6]\n"
          ]
        }
      ]
    },
    {
      "cell_type": "code",
      "source": [
        ""
      ],
      "metadata": {
        "id": "jf4w3N6WA7hk"
      },
      "execution_count": 9,
      "outputs": []
    },
    {
      "cell_type": "code",
      "source": [
        ""
      ],
      "metadata": {
        "id": "fGTjhaWlA805"
      },
      "execution_count": null,
      "outputs": []
    }
  ]
}