{
  "nbformat": 4,
  "nbformat_minor": 0,
  "metadata": {
    "colab": {
      "name": "exercise_5",
      "provenance": [],
      "collapsed_sections": []
    },
    "kernelspec": {
      "name": "python3",
      "display_name": "Python 3"
    },
    "language_info": {
      "name": "python"
    }
  },
  "cells": [
    {
      "cell_type": "code",
      "execution_count": 13,
      "metadata": {
        "colab": {
          "base_uri": "https://localhost:8080/"
        },
        "id": "i7qFWiyd3hl0",
        "outputId": "64c37872-b583-4d08-9da6-260246225e49"
      },
      "outputs": [
        {
          "output_type": "stream",
          "name": "stdout",
          "text": [
            "24\n",
            "2\n"
          ]
        }
      ],
      "source": [
        "\"\"\"\n",
        "Functions vs Method\n",
        "\"\"\"\n",
        "\n",
        "def my_function(x):\n",
        "    return x+1\n",
        "\n",
        "\n",
        "age=23\n",
        "print(my_function(age))\n",
        "\n",
        "x =1\n",
        "class my_class:\n",
        "    def my_method(self):\n",
        "       return x+1\n",
        "cls=my_class()\n",
        "\n",
        "print(cls.my_method())"
      ]
    },
    {
      "cell_type": "code",
      "source": [
        "\"\"\"\n",
        "Return Keywork\n",
        "\"\"\"\n",
        "\n",
        "def check_leap_year(year):\n",
        "    if year % 4 == 0:\n",
        "        return str(year) + \" is a leap year.\"\n",
        "    else:\n",
        "        return str(year) + \" is a not leap year.\"\n",
        "    \n",
        "result = check_leap_year(2021)\n",
        "print(result)\n"
      ],
      "metadata": {
        "id": "wQ1Wa4xk-S0N"
      },
      "execution_count": null,
      "outputs": []
    },
    {
      "cell_type": "code",
      "source": [
        "\"\"\"\n",
        "Returning Multiple Values\n",
        "\"\"\"\n",
        "\n",
        "def square_point(x, y, z):\n",
        "    x_squared = x ** 2\n",
        "    y_squared = y ** 2\n",
        "    z_squared = z ** 2\n",
        "    return x_squared, y_squared, z_squared\n",
        "\n",
        "three_squared, four_squared, five_squared =square_point(3, 4, 5)\n",
        "print(three_squared, four_squared, five_squared)"
      ],
      "metadata": {
        "colab": {
          "base_uri": "https://localhost:8080/"
        },
        "id": "it8VopjX-UVd",
        "outputId": "bdffc8ea-715e-4fec-ca5c-ea712bb72dce"
      },
      "execution_count": 2,
      "outputs": [
        {
          "output_type": "stream",
          "name": "stdout",
          "text": [
            "9 16 25\n"
          ]
        }
      ]
    },
    {
      "cell_type": "code",
      "source": [
        "\"\"\"\n",
        "Global Variables\n",
        "\"\"\"\n",
        "\n",
        "a= \"Hello\"\n",
        "\n",
        "def prints_a():\n",
        "    print(a)\n",
        "    \n",
        "prints_a()"
      ],
      "metadata": {
        "colab": {
          "base_uri": "https://localhost:8080/"
        },
        "id": "D0-yvZGg-V0B",
        "outputId": "787d15a0-19f7-484a-f5a2-342fe9837d27"
      },
      "execution_count": 3,
      "outputs": [
        {
          "output_type": "stream",
          "name": "stdout",
          "text": [
            "Hello\n"
          ]
        }
      ]
    },
    {
      "cell_type": "code",
      "source": [
        "\"\"\"\n",
        "Local Variables\n",
        "\"\"\"\n",
        "\n",
        "b=3\n",
        "def prints_a():\n",
        "    b = \"ohio\"\n",
        "    print(b)\n",
        "    \n",
        "prints_a()\n",
        "\n",
        "print(b)\n",
        "    "
      ],
      "metadata": {
        "colab": {
          "base_uri": "https://localhost:8080/"
        },
        "id": "5Sxd9zRa-XVb",
        "outputId": "ae54f477-c203-4bad-e934-550c4351b183"
      },
      "execution_count": 9,
      "outputs": [
        {
          "output_type": "stream",
          "name": "stdout",
          "text": [
            "ohio\n",
            "3\n"
          ]
        }
      ]
    },
    {
      "cell_type": "code",
      "source": [
        "\"\"\"\n",
        "Keyword Arguments and Default Values\n",
        "\"\"\"\n",
        "\n",
        "def findvolume(height, width, depth):\n",
        "    print(\"Helght = \" + str(height))\n",
        "    print(\"Width = \" + str(width))\n",
        "    print(\"Depth = \" + str(depth))\n",
        "    return height * width * depth\n",
        "\n",
        "print(findvolume(1, 3, 4))\n",
        "print(findvolume(height=4, width=5, depth=6))"
      ],
      "metadata": {
        "colab": {
          "base_uri": "https://localhost:8080/"
        },
        "id": "QvDQNu7L-YbJ",
        "outputId": "8ce22989-b244-4476-ff38-f0f2c8586ae6"
      },
      "execution_count": 8,
      "outputs": [
        {
          "output_type": "stream",
          "name": "stdout",
          "text": [
            "Helght = 1\n",
            "Width = 3\n",
            "Depth = 4\n",
            "12\n",
            "Helght = 4\n",
            "Width = 5\n",
            "Depth = 6\n",
            "120\n"
          ]
        }
      ]
    },
    {
      "cell_type": "code",
      "source": [
        ""
      ],
      "metadata": {
        "id": "hi-gCF17-Zy0"
      },
      "execution_count": null,
      "outputs": []
    }
  ]
}