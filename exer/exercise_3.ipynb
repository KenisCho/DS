{
  "nbformat": 4,
  "nbformat_minor": 0,
  "metadata": {
    "colab": {
      "name": "exercise_3",
      "provenance": []
    },
    "kernelspec": {
      "name": "python3",
      "display_name": "Python 3"
    },
    "language_info": {
      "name": "python"
    }
  },
  "cells": [
    {
      "cell_type": "code",
      "execution_count": 8,
      "metadata": {
        "colab": {
          "base_uri": "https://localhost:8080/"
        },
        "id": "YrIKphGe06dI",
        "outputId": "1fd670c4-9559-4403-ffde-e65d3afccf4b"
      },
      "outputs": [
        {
          "output_type": "stream",
          "name": "stdout",
          "text": [
            "[3, 7, 9, 11, 13]\n",
            "[]\n"
          ]
        }
      ],
      "source": [
        "\"\"\"\n",
        "Lists\n",
        "\"\"\"\n",
        "\n",
        "primes = [3,7,9,11,13]\n",
        "print(primes)\n",
        "\n",
        "empty_list = []\n",
        "print(empty_list)"
      ]
    },
    {
      "cell_type": "code",
      "source": [
        "\"\"\"\n",
        "Multiple different data types\n",
        "\"\"\"\n",
        "\n",
        "mixed = ['Lisa', 1, 2.4, True]\n",
        "print(mixed)\n",
        "list_of_lists = [['a',1],['b',2]]"
      ],
      "metadata": {
        "colab": {
          "base_uri": "https://localhost:8080/"
        },
        "id": "OiI-b4U707sM",
        "outputId": "d2aa1ecc-21c0-4d63-c471-c105eacaab6d"
      },
      "execution_count": 9,
      "outputs": [
        {
          "output_type": "stream",
          "name": "stdout",
          "text": [
            "['Lisa', 1, 2.4, True]\n"
          ]
        }
      ]
    },
    {
      "cell_type": "code",
      "source": [
        "\"\"\"\n",
        "Zero-indexing\n",
        "\"\"\"\n",
        "\n",
        "names = ['Roger', 'Rafael', 'Andy', 'Novak']\n",
        "\n",
        "print(names[0],names[-1])\n",
        "print(names[1],names[-2])\n",
        "print(names[2],names[-3])\n",
        "print(names[3],names[-4])"
      ],
      "metadata": {
        "colab": {
          "base_uri": "https://localhost:8080/"
        },
        "id": "CJu0heRy08hJ",
        "outputId": "94125972-7a54-485c-e4aa-0d6c98a506ed"
      },
      "execution_count": 3,
      "outputs": [
        {
          "output_type": "stream",
          "name": "stdout",
          "text": [
            "Roger Novak\n",
            "Rafael Andy\n",
            "Andy Rafael\n",
            "Novak Roger\n"
          ]
        }
      ]
    },
    {
      "cell_type": "code",
      "source": [
        "\"\"\"\n",
        "List slicing\n",
        "\"\"\"\n",
        "hsu_buildings = ['만우관', '장공관' ,'필헌관', '소통관', '송암관', '늦봄관', '장준하통일관']\n",
        "building_slice=hsu_buildings[1:4]\n",
        "print(building_slice)\n",
        "building_slice[1]='집'\n",
        "print(building_slice)\n",
        "print(hsu_buildings)\n",
        "print(hsu_buildings[:3])"
      ],
      "metadata": {
        "colab": {
          "base_uri": "https://localhost:8080/"
        },
        "id": "vIR3G0xj09xl",
        "outputId": "b19fef1f-5483-4545-cac1-ea99ae5c589d"
      },
      "execution_count": 10,
      "outputs": [
        {
          "output_type": "stream",
          "name": "stdout",
          "text": [
            "['장공관', '필헌관', '소통관']\n",
            "['장공관', '집', '소통관']\n",
            "['만우관', '장공관', '필헌관', '소통관', '송암관', '늦봄관', '장준하통일관']\n",
            "['만우관', '장공관', '필헌관']\n"
          ]
        }
      ]
    },
    {
      "cell_type": "code",
      "source": [
        "\"\"\"\n",
        "Multi-dimensional Lists\n",
        "\"\"\"\n",
        "\n",
        "restaurants = [['해우리', '한식' ,'고S'], ['짜장명가', '중식', '중화비빔밥'],\n",
        "              ['찌동', '한식', '제육전골'],['맘터', '양식', '싸이버거']]\n",
        "print(restaurants[2][0])\n",
        "restaurants[1][2]='간짜장'\n",
        "print(restaurants[1])\n",
        "restaurants+[['오빠닭','한식','오븐에빠진닭']]"
      ],
      "metadata": {
        "colab": {
          "base_uri": "https://localhost:8080/"
        },
        "id": "_6IiosK-0-5e",
        "outputId": "ec3d5a4e-d57c-4c3b-9973-7dd80def7254"
      },
      "execution_count": 11,
      "outputs": [
        {
          "output_type": "stream",
          "name": "stdout",
          "text": [
            "찌동\n",
            "['짜장명가', '중식', '간짜장']\n"
          ]
        },
        {
          "output_type": "execute_result",
          "data": {
            "text/plain": [
              "[['해우리', '한식', '고S'],\n",
              " ['짜장명가', '중식', '간짜장'],\n",
              " ['찌동', '한식', '제육전골'],\n",
              " ['맘터', '양식', '싸이버거'],\n",
              " ['오빠닭', '한식', '오븐에빠진닭']]"
            ]
          },
          "metadata": {},
          "execution_count": 11
        }
      ]
    },
    {
      "cell_type": "code",
      "source": [
        "\"\"\"\n",
        "Adding Lists Together\n",
        "\"\"\"\n",
        "\n",
        "items_one = ['cake', 'cookie', 'bread']\n",
        "items_two = ['biscuit', 'shoclar']\n",
        "\n",
        "total_items = items_one + items_two\n",
        "print(total_items)"
      ],
      "metadata": {
        "colab": {
          "base_uri": "https://localhost:8080/"
        },
        "id": "z_s1mi8k1A5h",
        "outputId": "c674754b-26e5-4ecb-b644-0388d298c1e9"
      },
      "execution_count": 12,
      "outputs": [
        {
          "output_type": "stream",
          "name": "stdout",
          "text": [
            "['cake', 'cookie', 'bread', 'biscuit', 'shoclar']\n"
          ]
        }
      ]
    },
    {
      "cell_type": "code",
      "source": [
        "\"\"\"\n",
        "Useful Methods for Lists\n",
        "\"\"\"\n",
        "\n",
        "knapsack = [3, 5, 6, 87, 10]\n",
        "size = len(knapsack)\n",
        "print(size)\n",
        "\n",
        "#append()\n",
        "orders = ['daisies', 'periwinkle']\n",
        "orders.append('tulips')\n",
        "\n",
        "print(orders)\n",
        "\n",
        "# insert()\n",
        "store_line = ['Karla', 'Maxium', 'Martin', 'Isabella']\n",
        "store_line.insert(2, 'Vikor')\n",
        "print(store_line)\n",
        "\n",
        "# sort()\n",
        "\n",
        "numbers= [4,2,1,3]\n",
        "a=numbers.sort()\n",
        "b=sorted(numbers)\n",
        "print(numbers)\n",
        "print(a)\n",
        "print(b)\n",
        "hsu_buildings = ['만우관', '장공관' ,'필헌관', '소통관', '송암관', '늦봄관', '장준하통일관']\n",
        "hsu_buildings.sort()\n",
        "print(hsu_buildings)"
      ],
      "metadata": {
        "colab": {
          "base_uri": "https://localhost:8080/"
        },
        "id": "-f6-Tmlr1CI5",
        "outputId": "2f455e19-8214-4361-bc60-bab09ffa4ebf"
      },
      "execution_count": 13,
      "outputs": [
        {
          "output_type": "stream",
          "name": "stdout",
          "text": [
            "5\n",
            "['daisies', 'periwinkle', 'tulips']\n",
            "['Karla', 'Maxium', 'Vikor', 'Martin', 'Isabella']\n",
            "[1, 2, 3, 4]\n",
            "None\n",
            "[1, 2, 3, 4]\n",
            "['늦봄관', '만우관', '소통관', '송암관', '장공관', '장준하통일관', '필헌관']\n"
          ]
        }
      ]
    },
    {
      "cell_type": "code",
      "source": [
        ""
      ],
      "metadata": {
        "id": "woQLZcb31DY9"
      },
      "execution_count": null,
      "outputs": []
    }
  ]
}