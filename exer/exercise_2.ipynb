{
  "nbformat": 4,
  "nbformat_minor": 0,
  "metadata": {
    "colab": {
      "name": "exercise_2",
      "provenance": []
    },
    "kernelspec": {
      "name": "python3",
      "display_name": "Python 3"
    },
    "language_info": {
      "name": "python"
    }
  },
  "cells": [
    {
      "cell_type": "code",
      "execution_count": 4,
      "metadata": {
        "colab": {
          "base_uri": "https://localhost:8080/"
        },
        "id": "anjLK2UT0a_2",
        "outputId": "1a2ff574-c4d8-4ff4-8c16-0cf6ead3d300"
      },
      "outputs": [
        {
          "output_type": "stream",
          "name": "stdout",
          "text": [
            "<class 'bool'>\n",
            "<class 'int'>\n",
            "<class 'str'>\n"
          ]
        }
      ],
      "source": [
        "\"\"\"\n",
        "boolean variables\n",
        "\"\"\"\n",
        "\n",
        "im_girl = False\n",
        "print(type(is_tested))\n",
        "\n",
        "a=23\n",
        "print(type(a))\n",
        "\n",
        "b=\"string\"\n",
        "print(type(b))"
      ]
    },
    {
      "cell_type": "code",
      "source": [
        "\"\"\"\n",
        "Conditional statements (if / elif / else)\n",
        "\"\"\"\n",
        "\n",
        "puppy = \"maltepoo\"\n",
        "is_yes = False\n",
        "\n",
        "if(puppy==\"maltese\"):\n",
        "    print(\"말티즈\")\n",
        "    is_yes=True\n",
        "    \n",
        "elif puppy == \"poodle\":\n",
        "    print(\"푸들\")\n",
        "    is_yes = True\n",
        "    \n",
        "elif puppy == \"shitzu\":\n",
        "    print(\"시츄\")\n",
        "    is_yes = True\n",
        "    \n",
        "else:\n",
        "    print(\"말티푸\")\n",
        "    is_yes = True\n",
        "print(is_yes)"
      ],
      "metadata": {
        "colab": {
          "base_uri": "https://localhost:8080/"
        },
        "id": "1-zEFB8w0dE-",
        "outputId": "ed0c3b54-7d98-4450-dad4-5c9291c48db4"
      },
      "execution_count": 2,
      "outputs": [
        {
          "output_type": "stream",
          "name": "stdout",
          "text": [
            "말티푸\n",
            "True\n"
          ]
        }
      ]
    },
    {
      "cell_type": "code",
      "source": [
        "\"\"\"\n",
        "Exception Handling\n",
        "\"\"\"\n",
        "\n",
        "x=1\n",
        "try:    \n",
        "    print(y)\n",
        "except: \n",
        "    print(\"에러 발생\")"
      ],
      "metadata": {
        "colab": {
          "base_uri": "https://localhost:8080/"
        },
        "id": "4UknElrF0fRW",
        "outputId": "3f1127b0-7820-4141-9ae3-a76262786f85"
      },
      "execution_count": 3,
      "outputs": [
        {
          "output_type": "stream",
          "name": "stdout",
          "text": [
            "에러 발생\n"
          ]
        }
      ]
    },
    {
      "cell_type": "code",
      "source": [
        ""
      ],
      "metadata": {
        "id": "0HWI1kem0gqv"
      },
      "execution_count": null,
      "outputs": []
    }
  ]
}