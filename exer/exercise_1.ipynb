{
  "nbformat": 4,
  "nbformat_minor": 0,
  "metadata": {
    "colab": {
      "name": "exercise_1",
      "provenance": []
    },
    "kernelspec": {
      "name": "python3",
      "display_name": "Python 3"
    },
    "language_info": {
      "name": "python"
    }
  },
  "cells": [
    {
      "cell_type": "code",
      "execution_count": 14,
      "metadata": {
        "colab": {
          "base_uri": "https://localhost:8080/"
        },
        "id": "_uK22-n8zSAb",
        "outputId": "d6721b2e-5f00-48d4-a2e9-b2bee22250ab"
      },
      "outputs": [
        {
          "output_type": "stream",
          "name": "stdout",
          "text": [
            "Hello World!\n"
          ]
        }
      ],
      "source": [
        "import numpy as np\n",
        "print(\"Hello World!\")"
      ]
    },
    {
      "cell_type": "code",
      "source": [
        "pi = 3.14\n",
        "print(pi)\n",
        "print(\"hello world\")\n",
        "intro=\"My name is \"\n",
        "name = \"kneis Cho\"\n",
        "print(intro + name)"
      ],
      "metadata": {
        "colab": {
          "base_uri": "https://localhost:8080/"
        },
        "id": "IFpoqXC_zfg0",
        "outputId": "5404189a-f8dc-41c2-87a7-2c1bd71805c4"
      },
      "execution_count": 15,
      "outputs": [
        {
          "output_type": "stream",
          "name": "stdout",
          "text": [
            "3.14\n",
            "hello world\n",
            "My name is kneis Cho\n"
          ]
        }
      ]
    },
    {
      "cell_type": "code",
      "source": [
        "\"\"\"\n",
        "Variables\n",
        "\"\"\"\n",
        "my_name = \"kneis Cho\"\n",
        "my_hobby = \"Game\"\n",
        "my_age = 23\n",
        "is_manymoney = False"
      ],
      "metadata": {
        "id": "-IT7KgSCzgcw"
      },
      "execution_count": 16,
      "outputs": []
    },
    {
      "cell_type": "code",
      "source": [
        "\"\"\"\n",
        "Data Type : Integers\n",
        "\"\"\"\n",
        "# 집에 있는 것 중 3가지 사물의 개수를 구하시오\n",
        "rooms = 3\n",
        "bed = 1\n",
        "keyborad = 3"
      ],
      "metadata": {
        "id": "GXi66YQqzh6t"
      },
      "execution_count": 17,
      "outputs": []
    },
    {
      "cell_type": "code",
      "source": [
        "\"\"\"\n",
        "Data Type : Real Numbers\n",
        "\"\"\"\n",
        "# 3가지 것을 변수로 정의하시오.\n",
        "\n",
        "PI = 3.14\n",
        "my_height = 173.4\n",
        "my_money = 15000"
      ],
      "metadata": {
        "id": "jP-Pe2Iezi4d"
      },
      "execution_count": 18,
      "outputs": []
    },
    {
      "cell_type": "code",
      "source": [
        "\"\"\"\n",
        "Data Type : Strings\n",
        "\"\"\"\n",
        "# 본인이 좋아하는 3가지 문자열로 정의\n",
        "hobby = 'Game'\n",
        "favorite = ' Cook '\n",
        "favorite_actiivity = 'DIY'\n",
        "print(hobby + favorite + favorite_movie)"
      ],
      "metadata": {
        "colab": {
          "base_uri": "https://localhost:8080/"
        },
        "id": "6R1oAxAxzkS7",
        "outputId": "bf60f071-04d3-4de4-c65b-b5f4fb1997a8"
      },
      "execution_count": 19,
      "outputs": [
        {
          "output_type": "stream",
          "name": "stdout",
          "text": [
            "Game Cook Marvel\n"
          ]
        }
      ]
    },
    {
      "cell_type": "code",
      "source": [
        ""
      ],
      "metadata": {
        "id": "-ZD-QE0KzlXd"
      },
      "execution_count": null,
      "outputs": []
    }
  ]
}