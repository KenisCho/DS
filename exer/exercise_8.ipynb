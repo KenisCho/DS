{
  "nbformat": 4,
  "nbformat_minor": 0,
  "metadata": {
    "colab": {
      "name": "exercise_8",
      "provenance": [],
      "collapsed_sections": []
    },
    "kernelspec": {
      "name": "python3",
      "display_name": "Python 3"
    },
    "language_info": {
      "name": "python"
    }
  },
  "cells": [
    {
      "cell_type": "code",
      "execution_count": 3,
      "metadata": {
        "id": "aG_h5NpJDJdR"
      },
      "outputs": [],
      "source": [
        "import numpy as np"
      ]
    },
    {
      "cell_type": "code",
      "source": [
        "\"\"\"\n",
        "Computing reciprocals in loops\n",
        "\"\"\"\n",
        "\n",
        "def compute_reciprocals(values):\n",
        "    output = np.empty(len(values))\n",
        "    for i in range(len(values)):\n",
        "        output[i] = 1.0 / values[i]\n",
        "        \n",
        "    return output\n",
        "\n",
        "values = np.random.randint(1, 10, size = 5)\n",
        "print(values)"
      ],
      "metadata": {
        "id": "XYqhdCvpDMZj"
      },
      "execution_count": null,
      "outputs": []
    },
    {
      "cell_type": "code",
      "source": [
        "\"\"\"\n",
        "Comparison : Loop vs ufuncs(vectorized)\n",
        "\"\"\"\n",
        "\n",
        "big_array = np.random.randint(1, 100, size = 1000000)\n",
        "\n",
        "# %timeit은 쥬피터에서 제공해주는 기능 /// 실행시간 얼마나 걸리는지 알려줌\n",
        "#%timeit compute_reciprocals(big_array)"
      ],
      "metadata": {
        "id": "S5D3kIKeDQIK"
      },
      "execution_count": 8,
      "outputs": []
    },
    {
      "cell_type": "code",
      "source": [
        "%timeit 1 / big_array"
      ],
      "metadata": {
        "colab": {
          "base_uri": "https://localhost:8080/"
        },
        "id": "zHNU5Qk5DWlZ",
        "outputId": "4cf77931-7f7b-4bd2-cde2-477bf5603365"
      },
      "execution_count": 7,
      "outputs": [
        {
          "output_type": "stream",
          "name": "stdout",
          "text": [
            "100 loops, best of 5: 2.05 ms per loop\n"
          ]
        }
      ]
    },
    {
      "cell_type": "code",
      "source": [
        "\"\"\"\n",
        "Numpy.ufunc\n",
        "\"\"\"\n",
        "\n",
        "np.random.seed(1)\n",
        "arr1= np.random.randint(10,size=5)\n",
        "arr2= np.random.randint(10,size=5)\n",
        "print(arr1,arr2)\n",
        "\n",
        "arr1= arr1-2\n",
        "print(arr1,arr2)\n",
        "\n",
        "arr3= arr1+arr2\n",
        "print(arr3)\n",
        "\n",
        "arr4=np.random.randint(10,size=(3,5))\n",
        "print(arr4)"
      ],
      "metadata": {
        "colab": {
          "base_uri": "https://localhost:8080/"
        },
        "id": "uYp3lk2_DXZc",
        "outputId": "cb26e11e-d24e-461d-9ab0-0c02c3dc184d"
      },
      "execution_count": 4,
      "outputs": [
        {
          "output_type": "stream",
          "name": "stdout",
          "text": [
            "[5 8 9 5 0] [0 1 7 6 9]\n",
            "[ 3  6  7  3 -2] [0 1 7 6 9]\n",
            "[ 3  7 14  9  7]\n",
            "[[2 4 5 2 4]\n",
            " [2 4 7 7 9]\n",
            " [1 7 0 6 9]]\n"
          ]
        }
      ]
    },
    {
      "cell_type": "code",
      "source": [
        "\"\"\"\n",
        "UFuncs: Array Arithmetic\n",
        "\"\"\"\n",
        "\n",
        "x= np.arange(4)\n",
        "print(\"x = \",x)\n",
        "print(\"x + 5 = \",x+5)\n",
        "print(\"x - 5 = \",x-5)\n",
        "print(\"x * 2 = \", x*2)\n",
        "print(\"x / 2 = \", x/2)\n",
        "print(\"x ** 2 = \", x**2,'\\n')\n",
        "print(\"x + 5 = \",np.add(x,5))\n",
        "print(\"x - 5 = \",np.subtract(x,5))\n",
        "print(\"x * 2 = \", np.multiply(x,2))\n",
        "print(\"x / 2 = \", np.divide(x,2))\n",
        "print(\"x ** 2 = \", np.power(x,2))"
      ],
      "metadata": {
        "colab": {
          "base_uri": "https://localhost:8080/"
        },
        "id": "Worcf-7nDYYN",
        "outputId": "5f9bd68b-bf2c-4a43-ad32-a0d66a920195"
      },
      "execution_count": 5,
      "outputs": [
        {
          "output_type": "stream",
          "name": "stdout",
          "text": [
            "x =  [0 1 2 3]\n",
            "x + 5 =  [5 6 7 8]\n",
            "x - 5 =  [-5 -4 -3 -2]\n",
            "x * 2 =  [0 2 4 6]\n",
            "x / 2 =  [0.  0.5 1.  1.5]\n",
            "x ** 2 =  [0 1 4 9] \n",
            "\n",
            "x + 5 =  [5 6 7 8]\n",
            "x - 5 =  [-5 -4 -3 -2]\n",
            "x * 2 =  [0 2 4 6]\n",
            "x / 2 =  [0.  0.5 1.  1.5]\n",
            "x ** 2 =  [0 1 4 9]\n"
          ]
        }
      ]
    },
    {
      "cell_type": "code",
      "source": [
        "\"\"\"\n",
        "UFuncs : Absolute Value\n",
        "\"\"\"\n",
        "\n",
        "x= np.array([-2,-1,9,1,3])\n",
        "print(np.abs(x))\n",
        "\n",
        "x= np.array([3-4j, 4-3j, 2+0j, 0+1j])\n",
        "print(np.abs(x))"
      ],
      "metadata": {
        "colab": {
          "base_uri": "https://localhost:8080/"
        },
        "id": "JGuconITDlbv",
        "outputId": "7197bb10-730b-408f-9964-dafbe78f20ad"
      },
      "execution_count": 9,
      "outputs": [
        {
          "output_type": "stream",
          "name": "stdout",
          "text": [
            "[2 1 9 1 3]\n",
            "[5. 5. 2. 1.]\n"
          ]
        }
      ]
    },
    {
      "cell_type": "code",
      "source": [
        "\"\"\"\n",
        "UFuncs: Trigonometric Functions\n",
        "\"\"\"\n",
        "\n",
        "theta = np.linspace(0, np.pi, 3)\n",
        "\n",
        "print(theta)\n",
        "print(np.sin(theta))\n",
        "print(np.cos(theta))\n",
        "print(np.tan(theta))\n",
        "\n",
        "x= np.linspace(0, 100, 6)\n",
        "print(x)"
      ],
      "metadata": {
        "colab": {
          "base_uri": "https://localhost:8080/"
        },
        "id": "nVclW9qUEFkf",
        "outputId": "f82dfef5-bc75-4baa-d41d-d8a640221acc"
      },
      "execution_count": 10,
      "outputs": [
        {
          "output_type": "stream",
          "name": "stdout",
          "text": [
            "[0.         1.57079633 3.14159265]\n",
            "[0.0000000e+00 1.0000000e+00 1.2246468e-16]\n",
            "[ 1.000000e+00  6.123234e-17 -1.000000e+00]\n",
            "[ 0.00000000e+00  1.63312394e+16 -1.22464680e-16]\n",
            "[  0.  20.  40.  60.  80. 100.]\n"
          ]
        }
      ]
    },
    {
      "cell_type": "code",
      "source": [
        "\"\"\"\n",
        "UFuncs: Aggression\n",
        "\"\"\"\n",
        "\n",
        "x= np.arange(1, 5)\n",
        "print(x)\n",
        "aggr = np.add.reduce(x)\n",
        "print(aggr)\n",
        "\n",
        "aggr = np.multiply.reduce(x)\n",
        "print(aggr)"
      ],
      "metadata": {
        "colab": {
          "base_uri": "https://localhost:8080/"
        },
        "id": "1Gq-TpsQEHYU",
        "outputId": "6391d15e-4c35-487c-9550-cb867da277b6"
      },
      "execution_count": 11,
      "outputs": [
        {
          "output_type": "stream",
          "name": "stdout",
          "text": [
            "[1 2 3 4]\n",
            "10\n",
            "24\n"
          ]
        }
      ]
    },
    {
      "cell_type": "code",
      "source": [
        "# accumulate()\n",
        "print(x)\n",
        "\n",
        "accum= np.add.accumulate(x)\n",
        "print(accum)\n",
        "\n",
        "accum= np.multiply.accumulate(x)\n",
        "print(accum)"
      ],
      "metadata": {
        "colab": {
          "base_uri": "https://localhost:8080/"
        },
        "id": "eTg9znJWEIa6",
        "outputId": "a89324b1-5483-4566-f277-35685b484525"
      },
      "execution_count": 12,
      "outputs": [
        {
          "output_type": "stream",
          "name": "stdout",
          "text": [
            "[1 2 3 4]\n",
            "[ 1  3  6 10]\n",
            "[ 1  2  6 24]\n"
          ]
        }
      ]
    },
    {
      "cell_type": "code",
      "source": [
        "# Summing the Values in an Array\n",
        "\n",
        "np.random.seed(22)\n",
        "arr= np.random.rand(1000000)\n",
        "print(arr)"
      ],
      "metadata": {
        "colab": {
          "base_uri": "https://localhost:8080/"
        },
        "id": "DaadtAg2EJV_",
        "outputId": "5b074b55-29a5-4f2f-98fd-1eadbdf0fb96"
      },
      "execution_count": 13,
      "outputs": [
        {
          "output_type": "stream",
          "name": "stdout",
          "text": [
            "[0.20846054 0.48168106 0.42053804 ... 0.06543463 0.80534246 0.27317008]\n"
          ]
        }
      ]
    },
    {
      "cell_type": "code",
      "source": [
        "%timeit sum(arr)"
      ],
      "metadata": {
        "colab": {
          "base_uri": "https://localhost:8080/"
        },
        "id": "m6wI9U_gEKSn",
        "outputId": "370f2388-51a5-4586-d369-a718036ad967"
      },
      "execution_count": 14,
      "outputs": [
        {
          "output_type": "stream",
          "name": "stdout",
          "text": [
            "10 loops, best of 5: 168 ms per loop\n"
          ]
        }
      ]
    },
    {
      "cell_type": "code",
      "source": [
        "%timeit np.sum(arr)"
      ],
      "metadata": {
        "colab": {
          "base_uri": "https://localhost:8080/"
        },
        "id": "dzugbQVpELE5",
        "outputId": "3012857b-2942-4fe6-c2a8-a698ba0083ec"
      },
      "execution_count": 15,
      "outputs": [
        {
          "output_type": "stream",
          "name": "stdout",
          "text": [
            "1000 loops, best of 5: 373 µs per loop\n"
          ]
        }
      ]
    },
    {
      "cell_type": "code",
      "source": [
        "# Other Aggr. functions\n",
        "\n",
        "print(\"max = \",np.max(arr))\n",
        "print(\"min = \",np.min(arr))\n",
        "print(\"mean = \",np.mean(arr))\n",
        "print(\"median = \", np.median(arr))\n",
        "print(\"percentile =\", np.percentile(arr,90))\n",
        "\n",
        "print(np.any(arr>0))\n",
        "print(np.all(arr<0))"
      ],
      "metadata": {
        "colab": {
          "base_uri": "https://localhost:8080/"
        },
        "id": "rCv79wjUEMLL",
        "outputId": "11c9f7c4-27f7-4746-b89f-0e9a42ac05fc"
      },
      "execution_count": 16,
      "outputs": [
        {
          "output_type": "stream",
          "name": "stdout",
          "text": [
            "max =  0.9999996464057614\n",
            "min =  1.7499423032862893e-06\n",
            "mean =  0.5000365341903944\n",
            "median =  0.5005147047331882\n",
            "percentile = 0.8999537108441031\n",
            "True\n",
            "False\n"
          ]
        }
      ]
    },
    {
      "cell_type": "code",
      "source": [
        "# Multi dimensional aggregates\n",
        "\n",
        "np.random.seed(5)\n",
        "arr =np.random.randint(10, size=(3,4))\n",
        "print(arr)\n",
        "\n",
        "print(np.sum(arr, axis=0))"
      ],
      "metadata": {
        "colab": {
          "base_uri": "https://localhost:8080/"
        },
        "id": "2nKiirTXENJi",
        "outputId": "f3091bd8-f03a-4baa-dcab-36cfec041448"
      },
      "execution_count": 17,
      "outputs": [
        {
          "output_type": "stream",
          "name": "stdout",
          "text": [
            "[[3 6 6 0]\n",
            " [9 8 4 7]\n",
            " [0 0 7 1]]\n",
            "[12 14 17  8]\n"
          ]
        }
      ]
    },
    {
      "cell_type": "code",
      "source": [
        ""
      ],
      "metadata": {
        "id": "dSg3YgZiEOUY"
      },
      "execution_count": null,
      "outputs": []
    }
  ]
}