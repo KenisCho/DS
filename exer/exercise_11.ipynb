{
  "nbformat": 4,
  "nbformat_minor": 0,
  "metadata": {
    "colab": {
      "name": "exercise_11",
      "provenance": []
    },
    "kernelspec": {
      "name": "python3",
      "display_name": "Python 3"
    },
    "language_info": {
      "name": "python"
    }
  },
  "cells": [
    {
      "cell_type": "code",
      "execution_count": 1,
      "metadata": {
        "colab": {
          "base_uri": "https://localhost:8080/"
        },
        "id": "fJnN-0CuHRT1",
        "outputId": "996438a1-047f-47ec-c67e-9dc26feba82c"
      },
      "outputs": [
        {
          "output_type": "stream",
          "name": "stdout",
          "text": [
            "2021-10-27 00:00:00\n"
          ]
        }
      ],
      "source": [
        "\"\"\"\n",
        "Native Python dates and times\n",
        "\"\"\"\n",
        "from datetime import datetime\n",
        "\n",
        "t= datetime(year= 2021, month=10, day=27)\n",
        "print(t)"
      ]
    },
    {
      "cell_type": "code",
      "source": [
        "from dateutil import parser\n",
        "\n",
        "date= parser.parse(\"27th of October, 2021\")\n",
        "print(date)"
      ],
      "metadata": {
        "colab": {
          "base_uri": "https://localhost:8080/"
        },
        "id": "uod_ip8PHSDH",
        "outputId": "eed22558-3569-44e4-fa0f-2b244dbb0f8b"
      },
      "execution_count": 2,
      "outputs": [
        {
          "output_type": "stream",
          "name": "stdout",
          "text": [
            "2021-10-27 00:00:00\n"
          ]
        }
      ]
    },
    {
      "cell_type": "code",
      "source": [
        "date.strftime('%A')"
      ],
      "metadata": {
        "colab": {
          "base_uri": "https://localhost:8080/",
          "height": 35
        },
        "id": "5bPZDBM2HS0f",
        "outputId": "d9974192-3db3-4bea-c7e7-d2d78a17fc83"
      },
      "execution_count": 3,
      "outputs": [
        {
          "output_type": "execute_result",
          "data": {
            "application/vnd.google.colaboratory.intrinsic+json": {
              "type": "string"
            },
            "text/plain": [
              "'Wednesday'"
            ]
          },
          "metadata": {},
          "execution_count": 3
        }
      ]
    },
    {
      "cell_type": "code",
      "source": [
        "\"\"\"\n",
        "Types Arrays of Times: Numpy's datetime64\n",
        "\"\"\"\n",
        "\n",
        "import numpy as np\n",
        "\n",
        "dates = np.array(['2021-10-27', '2021-10-28'], dtype= np.datetime64)\n",
        "type(dates[0])\n",
        "\n",
        "date= np.datetime64('2021-10-28')\n",
        "print(date)"
      ],
      "metadata": {
        "colab": {
          "base_uri": "https://localhost:8080/"
        },
        "id": "hLVqTvN3HTkm",
        "outputId": "a018aa60-7447-4069-a202-3da0e7031495"
      },
      "execution_count": 4,
      "outputs": [
        {
          "output_type": "stream",
          "name": "stdout",
          "text": [
            "2021-10-28\n"
          ]
        }
      ]
    },
    {
      "cell_type": "code",
      "source": [
        "# We can quickly do vectorized operations on datetime64\n",
        "\n",
        "date+np.arange(7)"
      ],
      "metadata": {
        "colab": {
          "base_uri": "https://localhost:8080/"
        },
        "id": "EluqhXM6HUeo",
        "outputId": "c70660f8-4822-40cf-fe7f-529260c71294"
      },
      "execution_count": 5,
      "outputs": [
        {
          "output_type": "execute_result",
          "data": {
            "text/plain": [
              "array(['2021-10-28', '2021-10-29', '2021-10-30', '2021-10-31',\n",
              "       '2021-11-01', '2021-11-02', '2021-11-03'], dtype='datetime64[D]')"
            ]
          },
          "metadata": {},
          "execution_count": 5
        }
      ]
    },
    {
      "cell_type": "code",
      "source": [
        "t= np.datetime64('2021-10-28 11:38')\n",
        "print(t)"
      ],
      "metadata": {
        "colab": {
          "base_uri": "https://localhost:8080/"
        },
        "id": "A1RwOisOHVoP",
        "outputId": "9e0c04ef-9e02-463d-b282-78f8e1e8603e"
      },
      "execution_count": 6,
      "outputs": [
        {
          "output_type": "stream",
          "name": "stdout",
          "text": [
            "2021-10-28T11:38\n"
          ]
        }
      ]
    },
    {
      "cell_type": "code",
      "source": [
        "t= np.datetime64('2021-10-28 11:39:10.20', 'ns')\n",
        "print(t)"
      ],
      "metadata": {
        "colab": {
          "base_uri": "https://localhost:8080/"
        },
        "id": "mGUf0nwAHWnn",
        "outputId": "cc7ebcda-5715-47c2-e0b3-68e6b9359d26"
      },
      "execution_count": 7,
      "outputs": [
        {
          "output_type": "stream",
          "name": "stdout",
          "text": [
            "2021-10-28T11:39:10.200000000\n"
          ]
        }
      ]
    },
    {
      "cell_type": "code",
      "source": [
        "\"\"\"\n",
        "Dates and Times in Pandas\n",
        "\"\"\"\n",
        "\n",
        "import pandas as pd\n",
        "\n",
        "# Parse a string date in Pandas\n",
        "\n",
        "date= pd.to_datetime(\"27th of October, 2021\")\n",
        "print(date)"
      ],
      "metadata": {
        "colab": {
          "base_uri": "https://localhost:8080/"
        },
        "id": "0e5aU3n5HXYN",
        "outputId": "994bd9c1-0416-4311-eb52-584a11e155e4"
      },
      "execution_count": 8,
      "outputs": [
        {
          "output_type": "stream",
          "name": "stdout",
          "text": [
            "2021-10-27 00:00:00\n"
          ]
        }
      ]
    },
    {
      "cell_type": "code",
      "source": [
        "# Output the day of the week\n",
        "\n",
        "date.strftime('%A')"
      ],
      "metadata": {
        "colab": {
          "base_uri": "https://localhost:8080/",
          "height": 35
        },
        "id": "E-dPXehZHYhr",
        "outputId": "1e8aaba9-c0f1-42a7-86ec-a55700874146"
      },
      "execution_count": 9,
      "outputs": [
        {
          "output_type": "execute_result",
          "data": {
            "application/vnd.google.colaboratory.intrinsic+json": {
              "type": "string"
            },
            "text/plain": [
              "'Wednesday'"
            ]
          },
          "metadata": {},
          "execution_count": 9
        }
      ]
    },
    {
      "cell_type": "code",
      "source": [
        "date+ pd.to_timedelta(np.arange(7))"
      ],
      "metadata": {
        "colab": {
          "base_uri": "https://localhost:8080/"
        },
        "id": "0f0M_KnHHZeP",
        "outputId": "d6cd0c62-ad6d-4d53-dff6-e3908f8565ef"
      },
      "execution_count": 10,
      "outputs": [
        {
          "output_type": "execute_result",
          "data": {
            "text/plain": [
              "DatetimeIndex([          '2021-10-27 00:00:00',\n",
              "               '2021-10-27 00:00:00.000000001',\n",
              "               '2021-10-27 00:00:00.000000002',\n",
              "               '2021-10-27 00:00:00.000000003',\n",
              "               '2021-10-27 00:00:00.000000004',\n",
              "               '2021-10-27 00:00:00.000000005',\n",
              "               '2021-10-27 00:00:00.000000006'],\n",
              "              dtype='datetime64[ns]', freq=None)"
            ]
          },
          "metadata": {},
          "execution_count": 10
        }
      ]
    },
    {
      "cell_type": "code",
      "source": [
        "\"\"\"\n",
        "Pandas Time Seires: Indexing by Time\n",
        "\"\"\"\n",
        "\n",
        "ind= pd.DatetimeIndex(['2021-10-27', '2021-10-28', '2021-10-29',\n",
        "                 '2021-10-30', '2021-10-31', '2021-11-01', '2021-11-02'])\n",
        "\n",
        "print(ind)\n",
        "\n",
        "ser= pd.Series([0, 1, 2, 3, 4, 5, 6], index=ind)\n",
        "print(ser)\n",
        "\n",
        "ser['2021-10-27':'2021-11-02']"
      ],
      "metadata": {
        "colab": {
          "base_uri": "https://localhost:8080/"
        },
        "id": "xZFjsC3UHaRs",
        "outputId": "c904956f-a7c3-4c53-a508-63d106c7bd47"
      },
      "execution_count": 11,
      "outputs": [
        {
          "output_type": "stream",
          "name": "stdout",
          "text": [
            "DatetimeIndex(['2021-10-27', '2021-10-28', '2021-10-29', '2021-10-30',\n",
            "               '2021-10-31', '2021-11-01', '2021-11-02'],\n",
            "              dtype='datetime64[ns]', freq=None)\n",
            "2021-10-27    0\n",
            "2021-10-28    1\n",
            "2021-10-29    2\n",
            "2021-10-30    3\n",
            "2021-10-31    4\n",
            "2021-11-01    5\n",
            "2021-11-02    6\n",
            "dtype: int64\n"
          ]
        },
        {
          "output_type": "execute_result",
          "data": {
            "text/plain": [
              "2021-10-27    0\n",
              "2021-10-28    1\n",
              "2021-10-29    2\n",
              "2021-10-30    3\n",
              "2021-10-31    4\n",
              "2021-11-01    5\n",
              "2021-11-02    6\n",
              "dtype: int64"
            ]
          },
          "metadata": {},
          "execution_count": 11
        }
      ]
    },
    {
      "cell_type": "code",
      "source": [
        "ser['2021']"
      ],
      "metadata": {
        "colab": {
          "base_uri": "https://localhost:8080/"
        },
        "id": "Tw-JY9S0HbST",
        "outputId": "29c8141c-01ce-4c4b-a529-5c8ddc0e2ab2"
      },
      "execution_count": 12,
      "outputs": [
        {
          "output_type": "execute_result",
          "data": {
            "text/plain": [
              "2021-10-27    0\n",
              "2021-10-28    1\n",
              "2021-10-29    2\n",
              "2021-10-30    3\n",
              "2021-10-31    4\n",
              "2021-11-01    5\n",
              "2021-11-02    6\n",
              "dtype: int64"
            ]
          },
          "metadata": {},
          "execution_count": 12
        }
      ]
    },
    {
      "cell_type": "code",
      "source": [
        "\"\"\"\n",
        "Pandas Time Series Data Structures\n",
        "\"\"\"\n",
        "\n",
        "# TimeStamp and DatetimeIndex\n",
        "\n",
        "dates= pd.to_datetime([datetime(2015, 7, 3),\n",
        "                      \"4th of July, 2015\",\n",
        "                      '2015-Jul-6',\n",
        "                      '07-07-2015',\n",
        "                      '20150709'])\n",
        "\n",
        "print(dates)"
      ],
      "metadata": {
        "colab": {
          "base_uri": "https://localhost:8080/"
        },
        "id": "Q8028-ghHce5",
        "outputId": "3f07d5d6-38e9-4f28-b36f-129bd3761531"
      },
      "execution_count": 13,
      "outputs": [
        {
          "output_type": "stream",
          "name": "stdout",
          "text": [
            "DatetimeIndex(['2015-07-03', '2015-07-04', '2015-07-06', '2015-07-07',\n",
            "               '2015-07-09'],\n",
            "              dtype='datetime64[ns]', freq=None)\n"
          ]
        }
      ]
    },
    {
      "cell_type": "code",
      "source": [
        "# DatetimeIndex -> PeriodIndex with to_period()\n",
        "dates.to_period('W')"
      ],
      "metadata": {
        "colab": {
          "base_uri": "https://localhost:8080/"
        },
        "id": "p-xaXhWJHdZJ",
        "outputId": "fb5c0548-a09e-4455-96a1-5bcec51a220c"
      },
      "execution_count": 14,
      "outputs": [
        {
          "output_type": "execute_result",
          "data": {
            "text/plain": [
              "PeriodIndex(['2015-06-29/2015-07-05', '2015-06-29/2015-07-05',\n",
              "             '2015-07-06/2015-07-12', '2015-07-06/2015-07-12',\n",
              "             '2015-07-06/2015-07-12'],\n",
              "            dtype='period[W-SUN]', freq='W-SUN')"
            ]
          },
          "metadata": {},
          "execution_count": 14
        }
      ]
    },
    {
      "cell_type": "code",
      "source": [
        "# TimedeltaIndex\n",
        "dates - dates[0]"
      ],
      "metadata": {
        "colab": {
          "base_uri": "https://localhost:8080/"
        },
        "id": "pYzGG65sHeS5",
        "outputId": "eef221ba-5105-4f35-e6c9-868430d35610"
      },
      "execution_count": 15,
      "outputs": [
        {
          "output_type": "execute_result",
          "data": {
            "text/plain": [
              "TimedeltaIndex(['0 days', '1 days', '3 days', '4 days', '6 days'], dtype='timedelta64[ns]', freq=None)"
            ]
          },
          "metadata": {},
          "execution_count": 15
        }
      ]
    },
    {
      "cell_type": "code",
      "source": [
        "\"\"\"\n",
        "Regular Sequences\n",
        "\"\"\"\n",
        "\n",
        "#pd.date_range(). default freq: day\n",
        "\n",
        "pd.date_range('2021-10-27', '2021-10-31')"
      ],
      "metadata": {
        "colab": {
          "base_uri": "https://localhost:8080/"
        },
        "id": "lW93GwNaHfGj",
        "outputId": "2164b0ff-061d-439e-d139-2baebc1782af"
      },
      "execution_count": 16,
      "outputs": [
        {
          "output_type": "execute_result",
          "data": {
            "text/plain": [
              "DatetimeIndex(['2021-10-27', '2021-10-28', '2021-10-29', '2021-10-30',\n",
              "               '2021-10-31'],\n",
              "              dtype='datetime64[ns]', freq='D')"
            ]
          },
          "metadata": {},
          "execution_count": 16
        }
      ]
    },
    {
      "cell_type": "code",
      "source": [
        "# Use startpoint and num. of periods\n",
        "pd.date_range('2021-10-27', periods=5)"
      ],
      "metadata": {
        "id": "C5Se27MnHgIy",
        "outputId": "e0d0c843-8332-4854-fbab-2bdd6b3f8d2e",
        "colab": {
          "base_uri": "https://localhost:8080/"
        }
      },
      "execution_count": 17,
      "outputs": [
        {
          "output_type": "execute_result",
          "data": {
            "text/plain": [
              "DatetimeIndex(['2021-10-27', '2021-10-28', '2021-10-29', '2021-10-30',\n",
              "               '2021-10-31'],\n",
              "              dtype='datetime64[ns]', freq='D')"
            ]
          },
          "metadata": {},
          "execution_count": 17
        }
      ]
    },
    {
      "cell_type": "code",
      "source": [
        "# Change the frequency\n",
        "\n",
        "pd.date_range('2021-10-27', periods=12, freq='H')"
      ],
      "metadata": {
        "id": "fAu-smlOHhN0",
        "outputId": "1d150df3-aed1-4206-ce42-0fbdec9acbba",
        "colab": {
          "base_uri": "https://localhost:8080/"
        }
      },
      "execution_count": 18,
      "outputs": [
        {
          "output_type": "execute_result",
          "data": {
            "text/plain": [
              "DatetimeIndex(['2021-10-27 00:00:00', '2021-10-27 01:00:00',\n",
              "               '2021-10-27 02:00:00', '2021-10-27 03:00:00',\n",
              "               '2021-10-27 04:00:00', '2021-10-27 05:00:00',\n",
              "               '2021-10-27 06:00:00', '2021-10-27 07:00:00',\n",
              "               '2021-10-27 08:00:00', '2021-10-27 09:00:00',\n",
              "               '2021-10-27 10:00:00', '2021-10-27 11:00:00'],\n",
              "              dtype='datetime64[ns]', freq='H')"
            ]
          },
          "metadata": {},
          "execution_count": 18
        }
      ]
    }
  ]
}