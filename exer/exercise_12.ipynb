{
  "nbformat": 4,
  "nbformat_minor": 0,
  "metadata": {
    "colab": {
      "name": "exercise_12",
      "provenance": []
    },
    "kernelspec": {
      "name": "python3",
      "display_name": "Python 3"
    },
    "language_info": {
      "name": "python"
    }
  },
  "cells": [
    {
      "cell_type": "code",
      "execution_count": 1,
      "metadata": {
        "id": "S7kR9lNCHpEo"
      },
      "outputs": [],
      "source": [
        "import numpy as np\n",
        "import pandas as pd"
      ]
    },
    {
      "cell_type": "code",
      "source": [
        "\"\"\"\n",
        "Frequencies and Offsets\n",
        "\"\"\"\n",
        "\n",
        "# Frequency codes\n",
        "\n",
        "pd.date_range('2021-11-01', periods = 10, freq='M')"
      ],
      "metadata": {
        "colab": {
          "base_uri": "https://localhost:8080/"
        },
        "id": "EsoW06VaHrso",
        "outputId": "205ffb15-fdef-45ad-f7d1-2c67f0baed52"
      },
      "execution_count": 2,
      "outputs": [
        {
          "output_type": "execute_result",
          "data": {
            "text/plain": [
              "DatetimeIndex(['2021-11-30', '2021-12-31', '2022-01-31', '2022-02-28',\n",
              "               '2022-03-31', '2022-04-30', '2022-05-31', '2022-06-30',\n",
              "               '2022-07-31', '2022-08-31'],\n",
              "              dtype='datetime64[ns]', freq='M')"
            ]
          },
          "metadata": {},
          "execution_count": 2
        }
      ]
    },
    {
      "cell_type": "code",
      "source": [
        "pd.date_range('2021-11-01', periods=10, freq='Q')"
      ],
      "metadata": {
        "colab": {
          "base_uri": "https://localhost:8080/"
        },
        "id": "hsfyqNi5Hs1o",
        "outputId": "c2e5882e-1687-4522-8e46-dce6f93a465b"
      },
      "execution_count": 3,
      "outputs": [
        {
          "output_type": "execute_result",
          "data": {
            "text/plain": [
              "DatetimeIndex(['2021-12-31', '2022-03-31', '2022-06-30', '2022-09-30',\n",
              "               '2022-12-31', '2023-03-31', '2023-06-30', '2023-09-30',\n",
              "               '2023-12-31', '2024-03-31'],\n",
              "              dtype='datetime64[ns]', freq='Q-DEC')"
            ]
          },
          "metadata": {},
          "execution_count": 3
        }
      ]
    },
    {
      "cell_type": "code",
      "source": [
        "pd.date_range('2021-11-01', periods=9, freq='2H30T')"
      ],
      "metadata": {
        "colab": {
          "base_uri": "https://localhost:8080/"
        },
        "id": "dNe644xLHt4E",
        "outputId": "eed87ecb-37aa-4b86-f5a9-46356b91ace2"
      },
      "execution_count": 4,
      "outputs": [
        {
          "output_type": "execute_result",
          "data": {
            "text/plain": [
              "DatetimeIndex(['2021-11-01 00:00:00', '2021-11-01 02:30:00',\n",
              "               '2021-11-01 05:00:00', '2021-11-01 07:30:00',\n",
              "               '2021-11-01 10:00:00', '2021-11-01 12:30:00',\n",
              "               '2021-11-01 15:00:00', '2021-11-01 17:30:00',\n",
              "               '2021-11-01 20:00:00'],\n",
              "              dtype='datetime64[ns]', freq='150T')"
            ]
          },
          "metadata": {},
          "execution_count": 4
        }
      ]
    },
    {
      "cell_type": "code",
      "source": [
        "# Offsets\n",
        "\n",
        "from pandas.tseries.offsets import DateOffset\n",
        "ts= pd.Timestamp('2021-10-31 23:28:30')\n",
        "ts + DateOffset(hours=40)"
      ],
      "metadata": {
        "colab": {
          "base_uri": "https://localhost:8080/"
        },
        "id": "5dndDnR4Huy3",
        "outputId": "c9c8637f-4176-4fb9-8691-c33646d31815"
      },
      "execution_count": 5,
      "outputs": [
        {
          "output_type": "execute_result",
          "data": {
            "text/plain": [
              "Timestamp('2021-11-02 15:28:30')"
            ]
          },
          "metadata": {},
          "execution_count": 5
        }
      ]
    },
    {
      "cell_type": "code",
      "source": [
        "# Offsets(minus)\n",
        "ts - DateOffset(years=71,  months=4, days=5, hours=19, minutes=28, seconds=30)"
      ],
      "metadata": {
        "colab": {
          "base_uri": "https://localhost:8080/"
        },
        "id": "i7pWkc-jHvy7",
        "outputId": "01f6c46f-119c-4c12-e19e-3d200a4d225e"
      },
      "execution_count": 6,
      "outputs": [
        {
          "output_type": "execute_result",
          "data": {
            "text/plain": [
              "Timestamp('1950-06-25 04:00:00')"
            ]
          },
          "metadata": {},
          "execution_count": 6
        }
      ]
    },
    {
      "cell_type": "code",
      "source": [
        "  "
      ],
      "metadata": {
        "id": "ZzLIFHz8HwwG"
      },
      "execution_count": 9,
      "outputs": []
    },
    {
      "cell_type": "code",
      "source": [
        ""
      ],
      "metadata": {
        "id": "La2Kq4OpHxhR"
      },
      "execution_count": 9,
      "outputs": []
    },
    {
      "cell_type": "code",
      "source": [
        ""
      ],
      "metadata": {
        "id": "-xWqDHmHHyVO"
      },
      "execution_count": null,
      "outputs": []
    }
  ]
}