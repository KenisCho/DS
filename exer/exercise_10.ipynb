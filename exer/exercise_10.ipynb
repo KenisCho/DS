{
  "nbformat": 4,
  "nbformat_minor": 0,
  "metadata": {
    "colab": {
      "name": "exercise_10",
      "provenance": [],
      "collapsed_sections": []
    },
    "kernelspec": {
      "name": "python3",
      "display_name": "Python 3"
    },
    "language_info": {
      "name": "python"
    }
  },
  "cells": [
    {
      "cell_type": "code",
      "execution_count": 1,
      "metadata": {
        "id": "VCLUctG3F3HJ"
      },
      "outputs": [],
      "source": [
        "import numpy as np\n",
        "import pandas as pd"
      ]
    },
    {
      "cell_type": "code",
      "source": [
        "\"\"\"\n",
        "    numpy. concatenate()\n",
        "\"\"\"\n",
        "\n",
        "x = [1, 2, 3]\n",
        "y = [4, 5, 6]\n",
        "z = [7, 8, 9]\n",
        "\n",
        "np.concatenate([x, y, z])"
      ],
      "metadata": {
        "colab": {
          "base_uri": "https://localhost:8080/"
        },
        "id": "wG0zhDT1F6E2",
        "outputId": "59bf9072-8dfd-4e46-8662-d5109b5e727b"
      },
      "execution_count": 2,
      "outputs": [
        {
          "output_type": "execute_result",
          "data": {
            "text/plain": [
              "array([1, 2, 3, 4, 5, 6, 7, 8, 9])"
            ]
          },
          "metadata": {},
          "execution_count": 2
        }
      ]
    },
    {
      "cell_type": "code",
      "source": [
        "\"\"\"\n",
        "    pandas.concat()\n",
        "\"\"\"\n",
        "\n",
        "ser1= pd.Series(['A', 'B', 'C'], index = [1, 2, 3])\n",
        "ser2= pd.Series(['D', 'E', 'F'], index = [4, 5, 6])\n",
        "\n",
        "print(pd.concat([ser2, ser1]))"
      ],
      "metadata": {
        "colab": {
          "base_uri": "https://localhost:8080/"
        },
        "id": "QIJFShHqF69g",
        "outputId": "58381add-fb0c-49a1-f2e4-c8ea9088f082"
      },
      "execution_count": 3,
      "outputs": [
        {
          "output_type": "stream",
          "name": "stdout",
          "text": [
            "4    D\n",
            "5    E\n",
            "6    F\n",
            "1    A\n",
            "2    B\n",
            "3    C\n",
            "dtype: object\n"
          ]
        }
      ]
    },
    {
      "cell_type": "code",
      "source": [
        "def make_df(cols, ind):\n",
        "    data = {c: [str(c) + str(i) for i in ind]\n",
        "           for c in cols}\n",
        "    \n",
        "    return pd.DataFrame(data, ind)\n",
        "\n",
        "print(make_df('ABC',[1,2]))"
      ],
      "metadata": {
        "colab": {
          "base_uri": "https://localhost:8080/"
        },
        "id": "RTS0AJ6SF8Bs",
        "outputId": "91e42c77-1507-4af6-c265-e8cb5c6a4675"
      },
      "execution_count": 4,
      "outputs": [
        {
          "output_type": "stream",
          "name": "stdout",
          "text": [
            "    A   B   C\n",
            "1  A1  B1  C1\n",
            "2  A2  B2  C2\n"
          ]
        }
      ]
    },
    {
      "cell_type": "code",
      "source": [
        "df1= make_df('AB', [1, 2])\n",
        "df2= make_df('AB', [3, 4])\n",
        "\n",
        "print(df1, '\\n')\n",
        "print(df2, '\\n')\n",
        "\n",
        "print(pd.concat([df1,df2]))"
      ],
      "metadata": {
        "colab": {
          "base_uri": "https://localhost:8080/"
        },
        "id": "LGm-0P8EF816",
        "outputId": "79e21753-76c2-42c9-bfad-cb9fccce8837"
      },
      "execution_count": 5,
      "outputs": [
        {
          "output_type": "stream",
          "name": "stdout",
          "text": [
            "    A   B\n",
            "1  A1  B1\n",
            "2  A2  B2 \n",
            "\n",
            "    A   B\n",
            "3  A3  B3\n",
            "4  A4  B4 \n",
            "\n",
            "    A   B\n",
            "1  A1  B1\n",
            "2  A2  B2\n",
            "3  A3  B3\n",
            "4  A4  B4\n"
          ]
        }
      ]
    },
    {
      "cell_type": "code",
      "source": [
        "df3= make_df('AB', [0, 1])\n",
        "df4= make_df('CD', [0, 1])\n",
        "\n",
        "print(df3, '\\n')\n",
        "print(df4, '\\n')\n",
        "\n",
        "print(pd.concat([df3, df4], axis=0))"
      ],
      "metadata": {
        "colab": {
          "base_uri": "https://localhost:8080/"
        },
        "id": "ClFobiXvF9uG",
        "outputId": "72eabdef-6918-419b-edc1-a88d7ee3dd59"
      },
      "execution_count": 6,
      "outputs": [
        {
          "output_type": "stream",
          "name": "stdout",
          "text": [
            "    A   B\n",
            "0  A0  B0\n",
            "1  A1  B1 \n",
            "\n",
            "    C   D\n",
            "0  C0  D0\n",
            "1  C1  D1 \n",
            "\n",
            "     A    B    C    D\n",
            "0   A0   B0  NaN  NaN\n",
            "1   A1   B1  NaN  NaN\n",
            "0  NaN  NaN   C0   D0\n",
            "1  NaN  NaN   C1   D1\n"
          ]
        }
      ]
    },
    {
      "cell_type": "code",
      "source": [
        "\"\"\"\n",
        "Concate() Features\n",
        "\"\"\"\n",
        "\n",
        "# Case 1 : Duplicate indices\n",
        "\n",
        "x= make_df('AB', [0,1])\n",
        "y= make_df('AB', [2, 3])\n",
        "\n",
        "print(y.index)\n",
        "y.index= x.index\n",
        "print(x, '\\n')\n",
        "print(y, '\\n')\n",
        "\n",
        "print(pd.concat([x, y]))"
      ],
      "metadata": {
        "colab": {
          "base_uri": "https://localhost:8080/"
        },
        "id": "npanf87kF-nS",
        "outputId": "a9bed41b-5663-4861-8875-c1f719fa307f"
      },
      "execution_count": 7,
      "outputs": [
        {
          "output_type": "stream",
          "name": "stdout",
          "text": [
            "Int64Index([2, 3], dtype='int64')\n",
            "    A   B\n",
            "0  A0  B0\n",
            "1  A1  B1 \n",
            "\n",
            "    A   B\n",
            "0  A2  B2\n",
            "1  A3  B3 \n",
            "\n",
            "    A   B\n",
            "0  A0  B0\n",
            "1  A1  B1\n",
            "0  A2  B2\n",
            "1  A3  B3\n"
          ]
        }
      ]
    },
    {
      "cell_type": "code",
      "source": [
        "# Case 2: Catching Duplications as errors\n",
        "try:\n",
        "    pd.concat([x,y], verify_integrity=True)\n",
        "    \n",
        "except ValueError as e:\n",
        "    print(\"ValueError : \", e)"
      ],
      "metadata": {
        "colab": {
          "base_uri": "https://localhost:8080/"
        },
        "id": "sFJRHkDmF_vs",
        "outputId": "31e1c29b-a4c1-4141-a0bc-0d7a3ef8cab9"
      },
      "execution_count": 8,
      "outputs": [
        {
          "output_type": "stream",
          "name": "stdout",
          "text": [
            "ValueError :  Indexes have overlapping values: Int64Index([0, 1], dtype='int64')\n"
          ]
        }
      ]
    },
    {
      "cell_type": "code",
      "source": [
        "# Case 3 : Ignore the index:\n",
        "print(pd.concat([x, y], ignore_index=True))"
      ],
      "metadata": {
        "colab": {
          "base_uri": "https://localhost:8080/"
        },
        "id": "yvE1m4KAGA6F",
        "outputId": "69a49687-ccc0-4103-8dc9-ff2088588495"
      },
      "execution_count": 9,
      "outputs": [
        {
          "output_type": "stream",
          "name": "stdout",
          "text": [
            "    A   B\n",
            "0  A0  B0\n",
            "1  A1  B1\n",
            "2  A2  B2\n",
            "3  A3  B3\n"
          ]
        }
      ]
    },
    {
      "cell_type": "code",
      "source": [
        "\"\"\"\n",
        "Concat() : join options\n",
        "\"\"\"\n",
        "\n",
        "x= make_df('ABC', [1, 2])\n",
        "y= make_df('BCD', [3, 4])\n",
        "\n",
        "print(x, '\\n')\n",
        "print(y, '\\n')\n",
        "\n",
        "print(pd.concat([x, y], join='inner'))"
      ],
      "metadata": {
        "colab": {
          "base_uri": "https://localhost:8080/"
        },
        "id": "zSJoP1n9GBu7",
        "outputId": "15ca1dd6-07d8-43fc-9e61-a43ab35246a0"
      },
      "execution_count": 10,
      "outputs": [
        {
          "output_type": "stream",
          "name": "stdout",
          "text": [
            "    A   B   C\n",
            "1  A1  B1  C1\n",
            "2  A2  B2  C2 \n",
            "\n",
            "    B   C   D\n",
            "3  B3  C3  D3\n",
            "4  B4  C4  D4 \n",
            "\n",
            "    B   C\n",
            "1  B1  C1\n",
            "2  B2  C2\n",
            "3  B3  C3\n",
            "4  B4  C4\n"
          ]
        }
      ]
    },
    {
      "cell_type": "code",
      "source": [
        "\"\"\"\n",
        "Join operations\n",
        "\"\"\"\n",
        "\n",
        "df1= pd.DataFrame({'employee': ['Bob', 'Jake', 'Lisa', 'Sue'],\n",
        "                  'group': ['Accounting', 'Engineering', 'Engineering', 'HR']})\n",
        "\n",
        "df2= pd.DataFrame({'employee': ['Lisa', 'Bob', 'Jake', 'Sue'],\n",
        "                  'hire_date': [2004, 2008, 2012, 2014]})\n",
        "\n",
        "print(df1,'\\n')\n",
        "print(df2)"
      ],
      "metadata": {
        "colab": {
          "base_uri": "https://localhost:8080/"
        },
        "id": "4TBlBHAxGCuq",
        "outputId": "eb0785e1-cd37-4abd-92fb-afd9ab62d5dd"
      },
      "execution_count": 11,
      "outputs": [
        {
          "output_type": "stream",
          "name": "stdout",
          "text": [
            "  employee        group\n",
            "0      Bob   Accounting\n",
            "1     Jake  Engineering\n",
            "2     Lisa  Engineering\n",
            "3      Sue           HR \n",
            "\n",
            "  employee  hire_date\n",
            "0     Lisa       2004\n",
            "1      Bob       2008\n",
            "2     Jake       2012\n",
            "3      Sue       2014\n"
          ]
        }
      ]
    },
    {
      "cell_type": "code",
      "source": [
        "# One-to-one joins\n",
        "\n",
        "df3= pd.merge(df1, df2)\n",
        "print(df3)"
      ],
      "metadata": {
        "colab": {
          "base_uri": "https://localhost:8080/"
        },
        "id": "KUk_kstXGDpP",
        "outputId": "7f9ccc94-5977-436a-f500-10d1075544d2"
      },
      "execution_count": 12,
      "outputs": [
        {
          "output_type": "stream",
          "name": "stdout",
          "text": [
            "  employee        group  hire_date\n",
            "0      Bob   Accounting       2008\n",
            "1     Jake  Engineering       2012\n",
            "2     Lisa  Engineering       2004\n",
            "3      Sue           HR       2014\n"
          ]
        }
      ]
    },
    {
      "cell_type": "code",
      "source": [
        "# Many-to-one joins\n",
        "\n",
        "df4= pd.DataFrame({'group':['Accounting', 'Engineering', 'HR'],\n",
        "                  'supervisor': ['Carly', 'Guido', 'Steve']})\n",
        "\n",
        "print(df3, '\\n')\n",
        "print(df4, '\\n')\n",
        "\n",
        "pd.merge(df3, df4)"
      ],
      "metadata": {
        "colab": {
          "base_uri": "https://localhost:8080/",
          "height": 377
        },
        "id": "ibFO5E5wGEly",
        "outputId": "37997642-7963-4744-9d51-d1e5b88c02e2"
      },
      "execution_count": 13,
      "outputs": [
        {
          "output_type": "stream",
          "name": "stdout",
          "text": [
            "  employee        group  hire_date\n",
            "0      Bob   Accounting       2008\n",
            "1     Jake  Engineering       2012\n",
            "2     Lisa  Engineering       2004\n",
            "3      Sue           HR       2014 \n",
            "\n",
            "         group supervisor\n",
            "0   Accounting      Carly\n",
            "1  Engineering      Guido\n",
            "2           HR      Steve \n",
            "\n"
          ]
        },
        {
          "output_type": "execute_result",
          "data": {
            "text/html": [
              "<div>\n",
              "<style scoped>\n",
              "    .dataframe tbody tr th:only-of-type {\n",
              "        vertical-align: middle;\n",
              "    }\n",
              "\n",
              "    .dataframe tbody tr th {\n",
              "        vertical-align: top;\n",
              "    }\n",
              "\n",
              "    .dataframe thead th {\n",
              "        text-align: right;\n",
              "    }\n",
              "</style>\n",
              "<table border=\"1\" class=\"dataframe\">\n",
              "  <thead>\n",
              "    <tr style=\"text-align: right;\">\n",
              "      <th></th>\n",
              "      <th>employee</th>\n",
              "      <th>group</th>\n",
              "      <th>hire_date</th>\n",
              "      <th>supervisor</th>\n",
              "    </tr>\n",
              "  </thead>\n",
              "  <tbody>\n",
              "    <tr>\n",
              "      <th>0</th>\n",
              "      <td>Bob</td>\n",
              "      <td>Accounting</td>\n",
              "      <td>2008</td>\n",
              "      <td>Carly</td>\n",
              "    </tr>\n",
              "    <tr>\n",
              "      <th>1</th>\n",
              "      <td>Jake</td>\n",
              "      <td>Engineering</td>\n",
              "      <td>2012</td>\n",
              "      <td>Guido</td>\n",
              "    </tr>\n",
              "    <tr>\n",
              "      <th>2</th>\n",
              "      <td>Lisa</td>\n",
              "      <td>Engineering</td>\n",
              "      <td>2004</td>\n",
              "      <td>Guido</td>\n",
              "    </tr>\n",
              "    <tr>\n",
              "      <th>3</th>\n",
              "      <td>Sue</td>\n",
              "      <td>HR</td>\n",
              "      <td>2014</td>\n",
              "      <td>Steve</td>\n",
              "    </tr>\n",
              "  </tbody>\n",
              "</table>\n",
              "</div>"
            ],
            "text/plain": [
              "  employee        group  hire_date supervisor\n",
              "0      Bob   Accounting       2008      Carly\n",
              "1     Jake  Engineering       2012      Guido\n",
              "2     Lisa  Engineering       2004      Guido\n",
              "3      Sue           HR       2014      Steve"
            ]
          },
          "metadata": {},
          "execution_count": 13
        }
      ]
    },
    {
      "cell_type": "code",
      "source": [
        "df5= pd.DataFrame({'group': ['Accounting', 'Accounting',\n",
        "                             'Engineering', 'Engineering', \n",
        "                             'HR', 'HR'],\n",
        "                  'skills': ['math', 'spreadsheets', 'coding',\n",
        "                            'linux', 'spreadsheets', 'organizations']})\n",
        "\n",
        "print(df1, '\\n')\n",
        "print(df5, '\\n')\n",
        "\n",
        "print(pd.merge(df1, df5))"
      ],
      "metadata": {
        "colab": {
          "base_uri": "https://localhost:8080/"
        },
        "id": "tUYDq-E6GFbk",
        "outputId": "6ec4399c-b74c-421a-d7b0-a5176a96ba77"
      },
      "execution_count": 14,
      "outputs": [
        {
          "output_type": "stream",
          "name": "stdout",
          "text": [
            "  employee        group\n",
            "0      Bob   Accounting\n",
            "1     Jake  Engineering\n",
            "2     Lisa  Engineering\n",
            "3      Sue           HR \n",
            "\n",
            "         group         skills\n",
            "0   Accounting           math\n",
            "1   Accounting   spreadsheets\n",
            "2  Engineering         coding\n",
            "3  Engineering          linux\n",
            "4           HR   spreadsheets\n",
            "5           HR  organizations \n",
            "\n",
            "  employee        group         skills\n",
            "0      Bob   Accounting           math\n",
            "1      Bob   Accounting   spreadsheets\n",
            "2     Jake  Engineering         coding\n",
            "3     Jake  Engineering          linux\n",
            "4     Lisa  Engineering         coding\n",
            "5     Lisa  Engineering          linux\n",
            "6      Sue           HR   spreadsheets\n",
            "7      Sue           HR  organizations\n"
          ]
        }
      ]
    },
    {
      "cell_type": "code",
      "source": [
        "\"\"\"\n",
        "Specifying the merge key\n",
        "\"\"\"\n",
        "\n",
        "print(df1, '\\n')\n",
        "print(df2, '\\n')\n",
        "\n",
        "df1['age']= pd.Series([20, 42, 37, 25])\n",
        "df2['age']= pd.Series([37, 20, 42, 25])\n",
        "\n",
        "print(df1, '\\n')\n",
        "print(df2, '\\n')\n",
        "\n",
        "print(pd.merge(df1, df2, on='age'))"
      ],
      "metadata": {
        "colab": {
          "base_uri": "https://localhost:8080/"
        },
        "id": "7D9wj8yMGGu7",
        "outputId": "3f437a66-270a-4d27-ce66-b1b12f5b97cd"
      },
      "execution_count": 15,
      "outputs": [
        {
          "output_type": "stream",
          "name": "stdout",
          "text": [
            "  employee        group\n",
            "0      Bob   Accounting\n",
            "1     Jake  Engineering\n",
            "2     Lisa  Engineering\n",
            "3      Sue           HR \n",
            "\n",
            "  employee  hire_date\n",
            "0     Lisa       2004\n",
            "1      Bob       2008\n",
            "2     Jake       2012\n",
            "3      Sue       2014 \n",
            "\n",
            "  employee        group  age\n",
            "0      Bob   Accounting   20\n",
            "1     Jake  Engineering   42\n",
            "2     Lisa  Engineering   37\n",
            "3      Sue           HR   25 \n",
            "\n",
            "  employee  hire_date  age\n",
            "0     Lisa       2004   37\n",
            "1      Bob       2008   20\n",
            "2     Jake       2012   42\n",
            "3      Sue       2014   25 \n",
            "\n",
            "  employee_x        group  age employee_y  hire_date\n",
            "0        Bob   Accounting   20        Bob       2008\n",
            "1       Jake  Engineering   42       Jake       2012\n",
            "2       Lisa  Engineering   37       Lisa       2004\n",
            "3        Sue           HR   25        Sue       2014\n"
          ]
        }
      ]
    },
    {
      "cell_type": "code",
      "source": [
        "df3= pd.DataFrame({'name': ['Bob', 'Jake', 'Lisa', 'sue'],\n",
        "                  'salary': [70000, 80000, 120000, 90000]})\n",
        "\n",
        "print(df1, '\\n')\n",
        "print(df3, '\\n')\n",
        "\n",
        "print(pd.merge(df1, df3, left_on='employee', right_on='name'))"
      ],
      "metadata": {
        "colab": {
          "base_uri": "https://localhost:8080/"
        },
        "id": "XgNCH1bgGIPg",
        "outputId": "ca23d725-14d1-487d-9c16-59d104cf6f18"
      },
      "execution_count": 16,
      "outputs": [
        {
          "output_type": "stream",
          "name": "stdout",
          "text": [
            "  employee        group  age\n",
            "0      Bob   Accounting   20\n",
            "1     Jake  Engineering   42\n",
            "2     Lisa  Engineering   37\n",
            "3      Sue           HR   25 \n",
            "\n",
            "   name  salary\n",
            "0   Bob   70000\n",
            "1  Jake   80000\n",
            "2  Lisa  120000\n",
            "3   sue   90000 \n",
            "\n",
            "  employee        group  age  name  salary\n",
            "0      Bob   Accounting   20   Bob   70000\n",
            "1     Jake  Engineering   42  Jake   80000\n",
            "2     Lisa  Engineering   37  Lisa  120000\n"
          ]
        }
      ]
    },
    {
      "cell_type": "code",
      "source": [
        "print(df1, '\\n')\n",
        "print(df2, '\\n')\n",
        "\n",
        "df1a= df1.set_index('employee')\n",
        "df2a= df2.set_index('employee')\n",
        "\n",
        "print(df1a, '\\n')\n",
        "print(df2a, '\\n')\n",
        "\n",
        "print(pd.merge(df1a, df2a, left_index=True, right_index=True))"
      ],
      "metadata": {
        "colab": {
          "base_uri": "https://localhost:8080/"
        },
        "id": "a2X_E3XwGJhb",
        "outputId": "3176406c-7085-41cf-eb3f-b958fc85513b"
      },
      "execution_count": 17,
      "outputs": [
        {
          "output_type": "stream",
          "name": "stdout",
          "text": [
            "  employee        group  age\n",
            "0      Bob   Accounting   20\n",
            "1     Jake  Engineering   42\n",
            "2     Lisa  Engineering   37\n",
            "3      Sue           HR   25 \n",
            "\n",
            "  employee  hire_date  age\n",
            "0     Lisa       2004   37\n",
            "1      Bob       2008   20\n",
            "2     Jake       2012   42\n",
            "3      Sue       2014   25 \n",
            "\n",
            "                group  age\n",
            "employee                  \n",
            "Bob        Accounting   20\n",
            "Jake      Engineering   42\n",
            "Lisa      Engineering   37\n",
            "Sue                HR   25 \n",
            "\n",
            "          hire_date  age\n",
            "employee                \n",
            "Lisa           2004   37\n",
            "Bob            2008   20\n",
            "Jake           2012   42\n",
            "Sue            2014   25 \n",
            "\n",
            "                group  age_x  hire_date  age_y\n",
            "employee                                      \n",
            "Bob        Accounting     20       2008     20\n",
            "Jake      Engineering     42       2012     42\n",
            "Lisa      Engineering     37       2004     37\n",
            "Sue                HR     25       2014     25\n"
          ]
        }
      ]
    },
    {
      "cell_type": "code",
      "source": [
        ""
      ],
      "metadata": {
        "id": "-qm-WxwaGLDt"
      },
      "execution_count": null,
      "outputs": []
    }
  ]
}