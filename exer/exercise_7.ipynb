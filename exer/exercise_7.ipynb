{
  "nbformat": 4,
  "nbformat_minor": 0,
  "metadata": {
    "colab": {
      "name": "exercise_7",
      "provenance": [],
      "collapsed_sections": []
    },
    "kernelspec": {
      "name": "python3",
      "display_name": "Python 3"
    },
    "language_info": {
      "name": "python"
    }
  },
  "cells": [
    {
      "cell_type": "code",
      "execution_count": 1,
      "metadata": {
        "id": "mDbAgaCfCfEX"
      },
      "outputs": [],
      "source": [
        "import numpy as np"
      ]
    },
    {
      "cell_type": "code",
      "source": [
        "\"\"\"\n",
        "Numpy Array Attribute\n",
        "\"\"\"\n",
        "\n",
        "print(np.arange(3))\n",
        "print(np.arange(3,9))\n",
        "print(np.arange(3,9,2))"
      ],
      "metadata": {
        "colab": {
          "base_uri": "https://localhost:8080/"
        },
        "id": "aW_JklLeCkME",
        "outputId": "dea67679-adc6-4bcc-8f2a-f0129949c330"
      },
      "execution_count": 2,
      "outputs": [
        {
          "output_type": "stream",
          "name": "stdout",
          "text": [
            "[0 1 2]\n",
            "[3 4 5 6 7 8]\n",
            "[3 5 7]\n"
          ]
        }
      ]
    },
    {
      "cell_type": "code",
      "source": [
        "# Random number generator\n",
        "\n",
        "np.random.seed(0)\n",
        "arr1= np.random.randint(10, size=6)\n",
        "print(arr1)\n",
        "arr2= np.random.randint(10, size=(3,4))\n",
        "print(arr2)\n",
        "arr3= np.random.randint(10, size=(3,4,5))\n",
        "print(arr3)"
      ],
      "metadata": {
        "colab": {
          "base_uri": "https://localhost:8080/"
        },
        "id": "8B-tTyqZClIR",
        "outputId": "23c9862b-b0ab-4be0-a323-e43629f18855"
      },
      "execution_count": 3,
      "outputs": [
        {
          "output_type": "stream",
          "name": "stdout",
          "text": [
            "[5 0 3 3 7 9]\n",
            "[[3 5 2 4]\n",
            " [7 6 8 8]\n",
            " [1 6 7 7]]\n",
            "[[[8 1 5 9 8]\n",
            "  [9 4 3 0 3]\n",
            "  [5 0 2 3 8]\n",
            "  [1 3 3 3 7]]\n",
            "\n",
            " [[0 1 9 9 0]\n",
            "  [4 7 3 2 7]\n",
            "  [2 0 0 4 5]\n",
            "  [5 6 8 4 1]]\n",
            "\n",
            " [[4 9 8 1 1]\n",
            "  [7 9 9 3 6]\n",
            "  [7 2 0 3 5]\n",
            "  [9 4 4 6 4]]]\n"
          ]
        }
      ]
    },
    {
      "cell_type": "code",
      "source": [
        "# Attributes\n",
        "print(arr2)\n",
        "\n",
        "print(\"arr2.ndim = \", arr2.ndim)\n",
        "print(\"arr2.shape = \",arr2.shape)\n",
        "print(\"arr2.size = \",arr2.size)\n",
        "\n",
        "print(\"arr2.dtype =\", arr2.dtype)\n",
        "print(\"arr2.itemsize =\", arr2.itemsize)\n",
        "print(\"arr2.nbytes = \",arr2.nbytes)"
      ],
      "metadata": {
        "colab": {
          "base_uri": "https://localhost:8080/"
        },
        "id": "sa0n59rSCmAn",
        "outputId": "3ced832e-e001-4dad-9642-6a9ed8b90408"
      },
      "execution_count": 4,
      "outputs": [
        {
          "output_type": "stream",
          "name": "stdout",
          "text": [
            "[[3 5 2 4]\n",
            " [7 6 8 8]\n",
            " [1 6 7 7]]\n",
            "arr2.ndim =  2\n",
            "arr2.shape =  (3, 4)\n",
            "arr2.size =  12\n",
            "arr2.dtype = int64\n",
            "arr2.itemsize = 8\n",
            "arr2.nbytes =  96\n"
          ]
        }
      ]
    },
    {
      "cell_type": "code",
      "source": [
        "\"\"\"\n",
        "Slicing\n",
        "\"\"\"\n",
        "\n",
        "arr =np.arange(10)\n",
        "print(arr)\n",
        "\n",
        "print(arr[2:5])\n",
        "print(arr[:4])\n",
        "print(arr[2:])"
      ],
      "metadata": {
        "colab": {
          "base_uri": "https://localhost:8080/"
        },
        "id": "-7sPddFYCm4b",
        "outputId": "58f09af0-85be-49a5-d830-d7d94845d0e8"
      },
      "execution_count": 13,
      "outputs": [
        {
          "output_type": "stream",
          "name": "stdout",
          "text": [
            "[0 1 2 3 4 5 6 7 8 9]\n",
            "[2 3 4]\n",
            "[0 1 2 3]\n",
            "[2 3 4 5 6 7 8 9]\n"
          ]
        }
      ]
    },
    {
      "cell_type": "code",
      "source": [
        "# Multi-dimensional Subarrays\n",
        "\n",
        "np.random.seed(0)\n",
        "arr = np.random.randint(10, size=(6, 8))\n",
        "print(arr)\n",
        "\n",
        "arr_sub= arr[2:5, 3:7]\n",
        "print(arr_sub)"
      ],
      "metadata": {
        "colab": {
          "base_uri": "https://localhost:8080/"
        },
        "id": "NDCIgZdTCntN",
        "outputId": "c74a07bf-0e78-41a4-dac3-ebc631289476"
      },
      "execution_count": 14,
      "outputs": [
        {
          "output_type": "stream",
          "name": "stdout",
          "text": [
            "[[5 0 3 3 7 9 3 5]\n",
            " [2 4 7 6 8 8 1 6]\n",
            " [7 7 8 1 5 9 8 9]\n",
            " [4 3 0 3 5 0 2 3]\n",
            " [8 1 3 3 3 7 0 1]\n",
            " [9 9 0 4 7 3 2 7]]\n",
            "[[1 5 9 8]\n",
            " [3 5 0 2]\n",
            " [3 3 7 0]]\n"
          ]
        }
      ]
    },
    {
      "cell_type": "code",
      "source": [
        "\"\"\"\n",
        "Subarrays as no-copy views\n",
        "\"\"\"\n",
        "np.random.seed(1)\n",
        "arr=np.random.randint(10,size=(3,4))\n",
        "print(arr, '\\n')\n",
        "\n",
        "arr_sub= arr[:2, :2]\n",
        "print(arr_sub, '\\n')\n",
        "\n",
        "arr_sub[0,0]= 99\n",
        "print(arr)\n",
        "\n",
        "arr2=arr.copy()\n",
        "print(arr2)\n",
        "arr2[0,0]=1\n",
        "print(arr2)\n",
        "print(arr)"
      ],
      "metadata": {
        "colab": {
          "base_uri": "https://localhost:8080/"
        },
        "id": "h1tPMvCICouf",
        "outputId": "c335ac57-d003-415c-a229-a5c0dca40b63"
      },
      "execution_count": 7,
      "outputs": [
        {
          "output_type": "stream",
          "name": "stdout",
          "text": [
            "[[5 8 9 5]\n",
            " [0 0 1 7]\n",
            " [6 9 2 4]] \n",
            "\n",
            "[[5 8]\n",
            " [0 0]] \n",
            "\n",
            "[[99  8  9  5]\n",
            " [ 0  0  1  7]\n",
            " [ 6  9  2  4]]\n",
            "[[99  8  9  5]\n",
            " [ 0  0  1  7]\n",
            " [ 6  9  2  4]]\n",
            "[[1 8 9 5]\n",
            " [0 0 1 7]\n",
            " [6 9 2 4]]\n",
            "[[99  8  9  5]\n",
            " [ 0  0  1  7]\n",
            " [ 6  9  2  4]]\n"
          ]
        }
      ]
    },
    {
      "cell_type": "code",
      "source": [
        "\"\"\"\n",
        "Reshaping of Arrays\n",
        "\"\"\"\n",
        "\n",
        "arr= np.arange(1,10)\n",
        "print(arr, '\\n')\n",
        "\n",
        "# reshape()\n",
        "grid = arr.reshape(3,3)\n",
        "print(grid, '\\n')"
      ],
      "metadata": {
        "colab": {
          "base_uri": "https://localhost:8080/"
        },
        "id": "riqtWDulCq24",
        "outputId": "006c09b1-3fc9-4977-f095-654cc9a51c93"
      },
      "execution_count": 8,
      "outputs": [
        {
          "output_type": "stream",
          "name": "stdout",
          "text": [
            "[1 2 3 4 5 6 7 8 9] \n",
            "\n",
            "[[1 2 3]\n",
            " [4 5 6]\n",
            " [7 8 9]] \n",
            "\n"
          ]
        }
      ]
    },
    {
      "cell_type": "code",
      "source": [
        "# np.newaxis\n",
        "\n",
        "arr= np.array([1,2,3])\n",
        "print(arr)\n",
        "print(\"arr.ndim =\", arr.ndim)\n",
        "print(\"arr.shape = \",arr.shape)\n",
        "\n",
        "arr_new = arr[np.newaxis, :]\n",
        "print(arr_new)\n",
        "print(\"arr_new.ndim = \", arr_new.ndim)\n",
        "print(\"arr_new.shpae = \", arr_new.shape)"
      ],
      "metadata": {
        "colab": {
          "base_uri": "https://localhost:8080/"
        },
        "id": "bIryWikOCuRq",
        "outputId": "cae6cf83-c65c-45ff-a1b5-64e2d78faee1"
      },
      "execution_count": 9,
      "outputs": [
        {
          "output_type": "stream",
          "name": "stdout",
          "text": [
            "[1 2 3]\n",
            "arr.ndim = 1\n",
            "arr.shape =  (3,)\n",
            "[[1 2 3]]\n",
            "arr_new.ndim =  2\n",
            "arr_new.shpae =  (1, 3)\n"
          ]
        }
      ]
    },
    {
      "cell_type": "code",
      "source": [
        "\"\"\"\n",
        "Array Concatenation\n",
        "\"\"\"\n",
        "\n",
        "# np.concatenate(), np.vstack(), np.hstack()\n",
        "\n",
        "arr_1 = np.array([1,2,3])\n",
        "arr_2 = np.array([4,5,6])\n",
        "arr_3 = np.array([7,8,9])\n",
        "\n",
        "arr_total = np.concatenate([arr_1,arr_2,arr_3])\n",
        "print(arr_total, '\\n')\n",
        "\n",
        "arr_total = np.vstack([arr_1,arr_2,arr_3])\n",
        "print(arr_total, '\\n')"
      ],
      "metadata": {
        "colab": {
          "base_uri": "https://localhost:8080/"
        },
        "id": "kW94kQ9ICvt0",
        "outputId": "1fe28162-bb05-4a5d-8690-26ead6757c75"
      },
      "execution_count": 10,
      "outputs": [
        {
          "output_type": "stream",
          "name": "stdout",
          "text": [
            "[1 2 3 4 5 6 7 8 9] \n",
            "\n",
            "[[1 2 3]\n",
            " [4 5 6]\n",
            " [7 8 9]] \n",
            "\n"
          ]
        }
      ]
    },
    {
      "cell_type": "code",
      "source": [
        "\"\"\"\n",
        "Array Splitting\n",
        "\"\"\"\n",
        "\n",
        "arr=[1,2,3,45,67,89,88,3,2,1]\n",
        "print(arr,'\\n')\n",
        "\n",
        "arr_1,arr_2,arr_3=np.split(arr,[3,5])\n",
        "print(arr_1,arr_2,arr_3)"
      ],
      "metadata": {
        "colab": {
          "base_uri": "https://localhost:8080/"
        },
        "id": "idKfzG1wCxA_",
        "outputId": "97bd1591-f5f4-4580-8681-788d03862cf0"
      },
      "execution_count": 12,
      "outputs": [
        {
          "output_type": "stream",
          "name": "stdout",
          "text": [
            "[1, 2, 3, 45, 67, 89, 88, 3, 2, 1] \n",
            "\n",
            "[1 2 3] [45 67] [89 88  3  2  1]\n"
          ]
        }
      ]
    },
    {
      "cell_type": "code",
      "source": [
        ""
      ],
      "metadata": {
        "id": "F8oSWldVCyFT"
      },
      "execution_count": null,
      "outputs": []
    }
  ]
}