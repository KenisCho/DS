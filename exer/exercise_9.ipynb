{
  "nbformat": 4,
  "nbformat_minor": 0,
  "metadata": {
    "colab": {
      "name": "exercise_9",
      "provenance": [],
      "collapsed_sections": []
    },
    "kernelspec": {
      "name": "python3",
      "display_name": "Python 3"
    },
    "language_info": {
      "name": "python"
    }
  },
  "cells": [
    {
      "cell_type": "code",
      "execution_count": 4,
      "metadata": {
        "colab": {
          "base_uri": "https://localhost:8080/"
        },
        "id": "izRgvEw8EeT6",
        "outputId": "6ef487e5-45cf-4929-c845-1d6e8c1735bc"
      },
      "outputs": [
        {
          "output_type": "stream",
          "name": "stdout",
          "text": [
            "Requirement already satisfied: pandas in /usr/local/lib/python3.7/dist-packages (1.1.5)\n",
            "Requirement already satisfied: pytz>=2017.2 in /usr/local/lib/python3.7/dist-packages (from pandas) (2018.9)\n",
            "Requirement already satisfied: python-dateutil>=2.7.3 in /usr/local/lib/python3.7/dist-packages (from pandas) (2.8.2)\n",
            "Requirement already satisfied: numpy>=1.15.4 in /usr/local/lib/python3.7/dist-packages (from pandas) (1.19.5)\n",
            "Requirement already satisfied: six>=1.5 in /usr/local/lib/python3.7/dist-packages (from python-dateutil>=2.7.3->pandas) (1.15.0)\n"
          ]
        }
      ],
      "source": [
        "pip install pandas"
      ]
    },
    {
      "cell_type": "code",
      "source": [
        "import pandas as pd\n",
        "import numpy as np"
      ],
      "metadata": {
        "id": "cDD_ZTWlEgd1"
      },
      "execution_count": 5,
      "outputs": []
    },
    {
      "cell_type": "code",
      "source": [
        "\"\"\"\n",
        "Pandas Object: Series\n",
        "\"\"\"\n",
        "\n",
        "ser = pd.Series([0.25, 0.5, 0.75, 1.0])\n",
        "print(ser)"
      ],
      "metadata": {
        "colab": {
          "base_uri": "https://localhost:8080/"
        },
        "id": "KePqwI4rEhrt",
        "outputId": "e1a41521-1a6b-473f-934b-b7212d2b4f97"
      },
      "execution_count": 6,
      "outputs": [
        {
          "output_type": "stream",
          "name": "stdout",
          "text": [
            "0    0.25\n",
            "1    0.50\n",
            "2    0.75\n",
            "3    1.00\n",
            "dtype: float64\n"
          ]
        }
      ]
    },
    {
      "cell_type": "code",
      "source": [
        "arr = ser.values\n",
        "print(arr)\n",
        "\n",
        "ind = ser.index\n",
        "print(ind.values)"
      ],
      "metadata": {
        "colab": {
          "base_uri": "https://localhost:8080/"
        },
        "id": "DZRQbyoqEiw8",
        "outputId": "486a700d-26d7-4b27-caa5-f0deab06a8b7"
      },
      "execution_count": 7,
      "outputs": [
        {
          "output_type": "stream",
          "name": "stdout",
          "text": [
            "[0.25 0.5  0.75 1.  ]\n",
            "[0 1 2 3]\n"
          ]
        }
      ]
    },
    {
      "cell_type": "code",
      "source": [
        "# Label-based Indexing\n",
        "\n",
        "ser = pd.Series([0.25, 0.5, 0.75, 1.0], index = ['a','b','c','d'])\n",
        "print(ser)\n",
        "arr[0]"
      ],
      "metadata": {
        "colab": {
          "base_uri": "https://localhost:8080/"
        },
        "id": "BCIMNX4ZEyrh",
        "outputId": "30efe572-b6ae-47f4-d086-a16fbcda474f"
      },
      "execution_count": 8,
      "outputs": [
        {
          "output_type": "stream",
          "name": "stdout",
          "text": [
            "a    0.25\n",
            "b    0.50\n",
            "c    0.75\n",
            "d    1.00\n",
            "dtype: float64\n"
          ]
        },
        {
          "output_type": "execute_result",
          "data": {
            "text/plain": [
              "0.25"
            ]
          },
          "metadata": {},
          "execution_count": 8
        }
      ]
    },
    {
      "cell_type": "code",
      "source": [
        "\"\"\"\n",
        "Create a series from a dictionary\n",
        "\"\"\"\n",
        "population_dict = {'California': 38332521,\n",
        "                  'Texas': 26558193,\n",
        "                  'New York': 19651127,\n",
        "                  'Florida': 19552860,\n",
        "                  'Illinois':12882135}\n",
        "population = pd.Series(population_dict)\n",
        "print(population)\n",
        "print()\n",
        "print(population['California':'New York'])"
      ],
      "metadata": {
        "colab": {
          "base_uri": "https://localhost:8080/"
        },
        "id": "MA7MfwwSEzXs",
        "outputId": "38f325ab-457a-401e-b707-24178e2632ae"
      },
      "execution_count": 9,
      "outputs": [
        {
          "output_type": "stream",
          "name": "stdout",
          "text": [
            "California    38332521\n",
            "Texas         26558193\n",
            "New York      19651127\n",
            "Florida       19552860\n",
            "Illinois      12882135\n",
            "dtype: int64\n",
            "\n",
            "California    38332521\n",
            "Texas         26558193\n",
            "New York      19651127\n",
            "dtype: int64\n"
          ]
        }
      ]
    },
    {
      "cell_type": "code",
      "source": [
        "\"\"\"\n",
        "Pandas object: DataFrame\n",
        "\"\"\"\n",
        "\n",
        "area_dict = {'California': 423967, 'Texas': 695662,\n",
        "             'New York': 141297, 'Florida': 170312,\n",
        "             'Illinois':149995}\n",
        "print(area_dict,'\\n')\n",
        "area= pd.Series(area_dict)\n",
        "\n",
        "print(area)"
      ],
      "metadata": {
        "colab": {
          "base_uri": "https://localhost:8080/"
        },
        "id": "1DC3IO6EE1C8",
        "outputId": "c6f56158-be41-44e8-b187-451ebea80ce8"
      },
      "execution_count": 10,
      "outputs": [
        {
          "output_type": "stream",
          "name": "stdout",
          "text": [
            "{'California': 423967, 'Texas': 695662, 'New York': 141297, 'Florida': 170312, 'Illinois': 149995} \n",
            "\n",
            "California    423967\n",
            "Texas         695662\n",
            "New York      141297\n",
            "Florida       170312\n",
            "Illinois      149995\n",
            "dtype: int64\n"
          ]
        }
      ]
    },
    {
      "cell_type": "code",
      "source": [
        "# Construct a DataFrame containing 'population' and 'area' Series\n",
        "\n",
        "states = pd.DataFrame({'population': population, 'area': area})\n",
        "print(states)\n",
        "\n",
        "print(states.index,'\\n')\n",
        "print(states.columns)"
      ],
      "metadata": {
        "colab": {
          "base_uri": "https://localhost:8080/"
        },
        "id": "unjHqxl3E2cH",
        "outputId": "11199b49-eda5-404c-eab2-3a1ab273afd0"
      },
      "execution_count": 11,
      "outputs": [
        {
          "output_type": "stream",
          "name": "stdout",
          "text": [
            "            population    area\n",
            "California    38332521  423967\n",
            "Texas         26558193  695662\n",
            "New York      19651127  141297\n",
            "Florida       19552860  170312\n",
            "Illinois      12882135  149995\n",
            "Index(['California', 'Texas', 'New York', 'Florida', 'Illinois'], dtype='object') \n",
            "\n",
            "Index(['population', 'area'], dtype='object')\n"
          ]
        }
      ]
    },
    {
      "cell_type": "code",
      "source": [
        "# Construct a DataFrame from a 2D Numpy array\n",
        "\n",
        "print(states['area'])\n",
        "arr = np.random.rand(3,2)\n",
        "print(arr, '\\n')\n",
        "\n",
        "df= pd.DataFrame(arr, columns=['foo', 'bar'], index=['a','b','c'])\n",
        "print(df)"
      ],
      "metadata": {
        "colab": {
          "base_uri": "https://localhost:8080/"
        },
        "id": "L3lpDjElE3b4",
        "outputId": "2591927f-67d4-49be-b4bc-ac9b0529b19b"
      },
      "execution_count": 12,
      "outputs": [
        {
          "output_type": "stream",
          "name": "stdout",
          "text": [
            "California    423967\n",
            "Texas         695662\n",
            "New York      141297\n",
            "Florida       170312\n",
            "Illinois      149995\n",
            "Name: area, dtype: int64\n",
            "[[0.67473417 0.54122764]\n",
            " [0.19976581 0.90680086]\n",
            " [0.17275165 0.87859078]] \n",
            "\n",
            "        foo       bar\n",
            "a  0.674734  0.541228\n",
            "b  0.199766  0.906801\n",
            "c  0.172752  0.878591\n"
          ]
        }
      ]
    },
    {
      "cell_type": "code",
      "source": [
        "\"\"\"\n",
        "Series object manipulation: dictionary-style\n",
        "\"\"\"\n",
        "\n",
        "ser = pd.Series([0.25, 0.5, 0.75, 1.0], index = ['a','b','c','d'])\n",
        "print(ser,'\\n')\n",
        "print(ser['b'])\n",
        "print(ser[0])\n",
        "print('a' in ser)"
      ],
      "metadata": {
        "colab": {
          "base_uri": "https://localhost:8080/"
        },
        "id": "d_e0uNSVE4kr",
        "outputId": "28aec670-1991-4e4b-f2d5-074675c8292a"
      },
      "execution_count": 13,
      "outputs": [
        {
          "output_type": "stream",
          "name": "stdout",
          "text": [
            "a    0.25\n",
            "b    0.50\n",
            "c    0.75\n",
            "d    1.00\n",
            "dtype: float64 \n",
            "\n",
            "0.5\n",
            "0.25\n",
            "True\n"
          ]
        }
      ]
    },
    {
      "cell_type": "code",
      "source": [
        "\"\"\"\n",
        "Series object manipulation: array-style\n",
        "\"\"\"\n",
        "\n",
        "print(ser.keys())\n",
        "ser['e']= 1.25\n",
        "ser['a']= 0.124\n",
        "\n",
        "print(ser)"
      ],
      "metadata": {
        "colab": {
          "base_uri": "https://localhost:8080/"
        },
        "id": "fn1imDKLE5kt",
        "outputId": "441719bf-16c1-4e71-98c1-6d79bd3183c5"
      },
      "execution_count": 14,
      "outputs": [
        {
          "output_type": "stream",
          "name": "stdout",
          "text": [
            "Index(['a', 'b', 'c', 'd'], dtype='object')\n",
            "a    0.124\n",
            "b    0.500\n",
            "c    0.750\n",
            "d    1.000\n",
            "e    1.250\n",
            "dtype: float64\n"
          ]
        }
      ]
    },
    {
      "cell_type": "code",
      "source": [
        "\"\"\"\n",
        "DataFrame object manipulation\n",
        "\"\"\"\n",
        "\n",
        "print(states['area'],'\\n')\n",
        "print(states.area)\n",
        "\n",
        "states['density'] = states['population'] / states['area']\n",
        "print(states)"
      ],
      "metadata": {
        "colab": {
          "base_uri": "https://localhost:8080/"
        },
        "id": "5-GBal50E6zS",
        "outputId": "c1ab0253-5ce8-46ef-e0b6-b5c59ae62420"
      },
      "execution_count": 15,
      "outputs": [
        {
          "output_type": "stream",
          "name": "stdout",
          "text": [
            "California    423967\n",
            "Texas         695662\n",
            "New York      141297\n",
            "Florida       170312\n",
            "Illinois      149995\n",
            "Name: area, dtype: int64 \n",
            "\n",
            "California    423967\n",
            "Texas         695662\n",
            "New York      141297\n",
            "Florida       170312\n",
            "Illinois      149995\n",
            "Name: area, dtype: int64\n",
            "            population    area     density\n",
            "California    38332521  423967   90.413926\n",
            "Texas         26558193  695662   38.176863\n",
            "New York      19651127  141297  139.076746\n",
            "Florida       19552860  170312  114.806121\n",
            "Illinois      12882135  149995   85.883763\n"
          ]
        }
      ]
    },
    {
      "cell_type": "code",
      "source": [
        "print(states)\n",
        "states.loc['California':'New York']"
      ],
      "metadata": {
        "colab": {
          "base_uri": "https://localhost:8080/",
          "height": 254
        },
        "id": "wXklsYZqE7xx",
        "outputId": "d49e6cc4-7560-40b5-bea2-09bf60b90773"
      },
      "execution_count": 16,
      "outputs": [
        {
          "output_type": "stream",
          "name": "stdout",
          "text": [
            "            population    area     density\n",
            "California    38332521  423967   90.413926\n",
            "Texas         26558193  695662   38.176863\n",
            "New York      19651127  141297  139.076746\n",
            "Florida       19552860  170312  114.806121\n",
            "Illinois      12882135  149995   85.883763\n"
          ]
        },
        {
          "output_type": "execute_result",
          "data": {
            "text/html": [
              "<div>\n",
              "<style scoped>\n",
              "    .dataframe tbody tr th:only-of-type {\n",
              "        vertical-align: middle;\n",
              "    }\n",
              "\n",
              "    .dataframe tbody tr th {\n",
              "        vertical-align: top;\n",
              "    }\n",
              "\n",
              "    .dataframe thead th {\n",
              "        text-align: right;\n",
              "    }\n",
              "</style>\n",
              "<table border=\"1\" class=\"dataframe\">\n",
              "  <thead>\n",
              "    <tr style=\"text-align: right;\">\n",
              "      <th></th>\n",
              "      <th>population</th>\n",
              "      <th>area</th>\n",
              "      <th>density</th>\n",
              "    </tr>\n",
              "  </thead>\n",
              "  <tbody>\n",
              "    <tr>\n",
              "      <th>California</th>\n",
              "      <td>38332521</td>\n",
              "      <td>423967</td>\n",
              "      <td>90.413926</td>\n",
              "    </tr>\n",
              "    <tr>\n",
              "      <th>Texas</th>\n",
              "      <td>26558193</td>\n",
              "      <td>695662</td>\n",
              "      <td>38.176863</td>\n",
              "    </tr>\n",
              "    <tr>\n",
              "      <th>New York</th>\n",
              "      <td>19651127</td>\n",
              "      <td>141297</td>\n",
              "      <td>139.076746</td>\n",
              "    </tr>\n",
              "  </tbody>\n",
              "</table>\n",
              "</div>"
            ],
            "text/plain": [
              "            population    area     density\n",
              "California    38332521  423967   90.413926\n",
              "Texas         26558193  695662   38.176863\n",
              "New York      19651127  141297  139.076746"
            ]
          },
          "metadata": {},
          "execution_count": 16
        }
      ]
    },
    {
      "cell_type": "code",
      "source": [
        ""
      ],
      "metadata": {
        "id": "ufWQTwDME9vh"
      },
      "execution_count": 17,
      "outputs": []
    },
    {
      "cell_type": "code",
      "source": [
        ""
      ],
      "metadata": {
        "id": "pV9R4VzPE_UM"
      },
      "execution_count": null,
      "outputs": []
    }
  ]
}