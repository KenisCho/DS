{
  "nbformat": 4,
  "nbformat_minor": 0,
  "metadata": {
    "colab": {
      "name": "hw4_my_chosun_name.ipynb의 사본",
      "provenance": [],
      "collapsed_sections": []
    },
    "kernelspec": {
      "name": "python3",
      "display_name": "Python 3"
    },
    "language_info": {
      "name": "python"
    }
  },
  "cells": [
    {
      "cell_type": "code",
      "metadata": {
        "id": "6rkSYrodjAHI"
      },
      "source": [
        "\"\"\"\n",
        "no.1\n",
        "\"\"\"\n",
        "month = ['쌍', '쇠', '복', '돌', '팽', '육', '쌍', '개', '칠', '갑', '삼', '방']\n",
        "\n",
        "\"\"\"\n",
        "no.2\n",
        "\"\"\"\n",
        "day = ['봉', '구', '욕', '포', '똥', '삼', '식', '석', '놈', '님', '년', '돌', '단', '득', '방', '질', '장', '걸', '래', '룡', '동', '순', '자', '박', '창', '언', '것', '포', '만', '단', '국']\n",
        "\n",
        "\"\"\"\n",
        "no.3\n",
        "\"\"\"\n",
        "def get_my_chosun_name(family_name, m, d):\n",
        "    name = family_name + month[m-1] + day[d-1]\n",
        "    return print(\"당신의 조선시대 이름은 \" + name + \"입니다.\")"
      ],
      "execution_count": null,
      "outputs": []
    },
    {
      "cell_type": "code",
      "metadata": {
        "colab": {
          "base_uri": "https://localhost:8080/"
        },
        "id": "QTYxT6rVklB5",
        "outputId": "2a76dd56-70e9-4f84-962d-56d604690cda"
      },
      "source": [
        "\"\"\"\n",
        "no.4\n",
        "\"\"\"\n",
        "get_my_chosun_name('조',2,18)"
      ],
      "execution_count": null,
      "outputs": [
        {
          "output_type": "stream",
          "name": "stdout",
          "text": [
            "당신의 조선시대 이름은 조쇠걸입니다.\n"
          ]
        }
      ]
    },
    {
      "cell_type": "markdown",
      "metadata": {
        "id": "9ykP_0slPrdH"
      },
      "source": [
        ""
      ]
    }
  ]
}