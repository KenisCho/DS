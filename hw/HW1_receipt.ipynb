"""
no.1
"""

lovely_loveseat_description = "Lovely Loveseat. Tufted polyester blend on wood. 32 inches high x 40 inches wide x 30 inches deep. Red or white."



"""
no.2
"""

lovely_loveseat_price = 254.00


"""
no.3
"""

stylish_setee_description = "Stylish Settee. Faux leather on birch. 29.50 inches high x 54.75 inches wide x 28 inches deep. Black."


"""
no.4
"""

stylish_setee_price = 180.50


"""
no.5
"""

luxurious_lamp_description = "Luxurious Lamp. Glass and iron. 36 inches tall. Brown with cream shade."


"""
no.6
"""

luxurious_lamp_price = 52.15


"""
no.7
"""

sales_tax = 0.088


"""
no.8
"""

customer_one_total = 0


"""
no.9
"""

customer_one_itemization = ""


"""
no.10
"""

customer_one_total += lovely_loveseat_price



"""
no.11
"""

customer_one_itemization += lovely_loveseat_description



"""
no.12
"""

customer_one_total += luxurious_lamp_price



"""
no.13
"""
customer_one_itemization += luxurious_lamp_description



"""
no.14
"""

customer_one_tax = customer_one_total * sales_tax



"""
no.15
"""

customer_one_total += customer_one_tax


"""
no.16
"""

print("Customer One Items:")


"""
no.17
"""

print(customer_one_itemization)


"""
no.18
"""

print("Customer One Total:")


"""
no.19
"""

print(customer_one_total)





Customer One Items:
Lovely Loveseat. Tufted polyester blend on wood. 32 inches high x 40 inches wide x 30 inches deep. Red or white.Luxurious Lamp. Glass and iron. 36 inches tall. Brown with cream shade.
Customer One Total:
333.09119999999996
