http://localhost:8888/files/HW1receipt.ipynb?_xsrf=2%7Ca36beb17%7Cac303bc10a26a5bbf2a9c9d5d8807c68%7C1631541286
